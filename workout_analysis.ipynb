{
 "cells": [
  {
   "cell_type": "code",
   "execution_count": 144,
   "metadata": {
    "collapsed": true
   },
   "outputs": [],
   "source": [
    "%matplotlib inline\n",
    "import numpy as np\n",
    "import scipy as sp\n",
    "import matplotlib as mpl\n",
    "import matplotlib.cm as cm\n",
    "import matplotlib.pyplot as plt\n",
    "import pandas as pd\n",
    "pd.set_option('display.width', 500)\n",
    "pd.set_option('display.max_columns', 100)\n",
    "pd.set_option('display.notebook_repr_html', True)\n",
    "import seaborn as sns\n",
    "sns.set_style(\"whitegrid\")\n",
    "sns.set_context(\"poster\")\n",
    "import time"
   ]
  },
  {
   "cell_type": "code",
   "execution_count": 145,
   "metadata": {
    "collapsed": true
   },
   "outputs": [],
   "source": [
    "#date_range"
   ]
  },
  {
   "cell_type": "code",
   "execution_count": 146,
   "metadata": {
    "collapsed": false
   },
   "outputs": [],
   "source": [
    "workouts = pd.read_csv('workouts.csv')\n",
    "workouts = workouts[workouts.user_id!=2509]"
   ]
  },
  {
   "cell_type": "code",
   "execution_count": 147,
   "metadata": {
    "collapsed": false
   },
   "outputs": [],
   "source": [
    "def epoch_end_convert(df):\n",
    "    '''\n",
    "    takes dataframe and converts date column to epoch milliseconds\n",
    "    inputs:\n",
    "        df = dataframe name\n",
    "    '''\n",
    "    try:\n",
    "        return (int(time.mktime(time.strptime(df['end'], '%Y-%m-%d %H:%M:%S'))) - 14400)*1000\n",
    "    except:\n",
    "        #handles activities that have fractions of a second included\n",
    "        return (int(time.mktime(time.strptime(df['end'][:19], '%Y-%m-%d %H:%M:%S'))) - 14400)*1000"
   ]
  },
  {
   "cell_type": "code",
   "execution_count": 148,
   "metadata": {
    "collapsed": false
   },
   "outputs": [],
   "source": [
    "#workouts_subset['end_epoch'] = workouts_subset.apply(epoch_end_convert, axis=1)\n",
    "workouts['end_epoch'] = workouts.apply(epoch_end_convert, axis=1)"
   ]
  },
  {
   "cell_type": "code",
   "execution_count": 149,
   "metadata": {
    "collapsed": false
   },
   "outputs": [
    {
     "data": {
      "text/html": [
       "<div>\n",
       "<table border=\"1\" class=\"dataframe\">\n",
       "  <thead>\n",
       "    <tr style=\"text-align: right;\">\n",
       "      <th></th>\n",
       "      <th>user_id</th>\n",
       "      <th>start</th>\n",
       "      <th>end</th>\n",
       "      <th>sport_id</th>\n",
       "      <th>name</th>\n",
       "      <th>intensity_score</th>\n",
       "      <th>z1</th>\n",
       "      <th>z2</th>\n",
       "      <th>z3</th>\n",
       "      <th>z4</th>\n",
       "      <th>z5</th>\n",
       "      <th>end_epoch</th>\n",
       "    </tr>\n",
       "  </thead>\n",
       "  <tbody>\n",
       "    <tr>\n",
       "      <th>0</th>\n",
       "      <td>828</td>\n",
       "      <td>2015-09-15 20:08:00</td>\n",
       "      <td>2015-09-15 22:56:00</td>\n",
       "      <td>35</td>\n",
       "      <td>Track &amp; Field</td>\n",
       "      <td>20.508564</td>\n",
       "      <td>1066</td>\n",
       "      <td>1810</td>\n",
       "      <td>1432</td>\n",
       "      <td>4668</td>\n",
       "      <td>679</td>\n",
       "      <td>1442357760000</td>\n",
       "    </tr>\n",
       "    <tr>\n",
       "      <th>1</th>\n",
       "      <td>828</td>\n",
       "      <td>2015-09-19 12:46:00</td>\n",
       "      <td>2015-09-19 14:09:00</td>\n",
       "      <td>35</td>\n",
       "      <td>Track &amp; Field</td>\n",
       "      <td>16.823285</td>\n",
       "      <td>506</td>\n",
       "      <td>601</td>\n",
       "      <td>1861</td>\n",
       "      <td>696</td>\n",
       "      <td>22</td>\n",
       "      <td>1442671740000</td>\n",
       "    </tr>\n",
       "    <tr>\n",
       "      <th>2</th>\n",
       "      <td>828</td>\n",
       "      <td>2015-09-20 13:15:00</td>\n",
       "      <td>2015-09-20 16:00:00</td>\n",
       "      <td>35</td>\n",
       "      <td>Track &amp; Field</td>\n",
       "      <td>20.506562</td>\n",
       "      <td>929</td>\n",
       "      <td>1302</td>\n",
       "      <td>1329</td>\n",
       "      <td>5353</td>\n",
       "      <td>321</td>\n",
       "      <td>1442764800000</td>\n",
       "    </tr>\n",
       "    <tr>\n",
       "      <th>3</th>\n",
       "      <td>828</td>\n",
       "      <td>2015-09-21 18:55:34.582</td>\n",
       "      <td>2015-09-21 18:58:37.876</td>\n",
       "      <td>1</td>\n",
       "      <td>Cycling</td>\n",
       "      <td>4.278678</td>\n",
       "      <td>8</td>\n",
       "      <td>170</td>\n",
       "      <td>5</td>\n",
       "      <td>0</td>\n",
       "      <td>0</td>\n",
       "      <td>1442861917000</td>\n",
       "    </tr>\n",
       "    <tr>\n",
       "      <th>4</th>\n",
       "      <td>828</td>\n",
       "      <td>2015-09-21 19:19:00</td>\n",
       "      <td>2015-09-21 21:12:00</td>\n",
       "      <td>35</td>\n",
       "      <td>Track &amp; Field</td>\n",
       "      <td>19.176787</td>\n",
       "      <td>655</td>\n",
       "      <td>1757</td>\n",
       "      <td>1372</td>\n",
       "      <td>2781</td>\n",
       "      <td>28</td>\n",
       "      <td>1442869920000</td>\n",
       "    </tr>\n",
       "  </tbody>\n",
       "</table>\n",
       "</div>"
      ],
      "text/plain": [
       "   user_id                    start                      end  sport_id           name  intensity_score    z1    z2    z3    z4   z5      end_epoch\n",
       "0      828      2015-09-15 20:08:00      2015-09-15 22:56:00        35  Track & Field        20.508564  1066  1810  1432  4668  679  1442357760000\n",
       "1      828      2015-09-19 12:46:00      2015-09-19 14:09:00        35  Track & Field        16.823285   506   601  1861   696   22  1442671740000\n",
       "2      828      2015-09-20 13:15:00      2015-09-20 16:00:00        35  Track & Field        20.506562   929  1302  1329  5353  321  1442764800000\n",
       "3      828  2015-09-21 18:55:34.582  2015-09-21 18:58:37.876         1        Cycling         4.278678     8   170     5     0    0  1442861917000\n",
       "4      828      2015-09-21 19:19:00      2015-09-21 21:12:00        35  Track & Field        19.176787   655  1757  1372  2781   28  1442869920000"
      ]
     },
     "execution_count": 149,
     "metadata": {},
     "output_type": "execute_result"
    }
   ],
   "source": [
    "workouts.head()"
   ]
  },
  {
   "cell_type": "markdown",
   "metadata": {},
   "source": [
    "#Adding in Time Periods (For Either Weeks or Races)"
   ]
  },
  {
   "cell_type": "code",
   "execution_count": 150,
   "metadata": {
    "collapsed": true
   },
   "outputs": [],
   "source": [
    "date_markers = pd.read_csv('epoch_dates.csv')"
   ]
  },
  {
   "cell_type": "code",
   "execution_count": 151,
   "metadata": {
    "collapsed": false
   },
   "outputs": [
    {
     "data": {
      "text/html": [
       "<div>\n",
       "<table border=\"1\" class=\"dataframe\">\n",
       "  <thead>\n",
       "    <tr style=\"text-align: right;\">\n",
       "      <th></th>\n",
       "      <th>ET_Date</th>\n",
       "      <th>date_start_epoch</th>\n",
       "      <th>race_period</th>\n",
       "      <th>bike_period</th>\n",
       "      <th>race_period_start</th>\n",
       "      <th>race_period_end</th>\n",
       "      <th>bike_period_start</th>\n",
       "      <th>bike_period_end</th>\n",
       "    </tr>\n",
       "  </thead>\n",
       "  <tbody>\n",
       "    <tr>\n",
       "      <th>0</th>\n",
       "      <td>9/15/2015 0:00</td>\n",
       "      <td>1442289600000</td>\n",
       "      <td>1</td>\n",
       "      <td>1</td>\n",
       "      <td>1</td>\n",
       "      <td>0</td>\n",
       "      <td>1</td>\n",
       "      <td>0</td>\n",
       "    </tr>\n",
       "    <tr>\n",
       "      <th>1</th>\n",
       "      <td>9/16/2015 0:00</td>\n",
       "      <td>1442376000000</td>\n",
       "      <td>1</td>\n",
       "      <td>1</td>\n",
       "      <td>0</td>\n",
       "      <td>0</td>\n",
       "      <td>0</td>\n",
       "      <td>0</td>\n",
       "    </tr>\n",
       "    <tr>\n",
       "      <th>2</th>\n",
       "      <td>9/17/2015 0:00</td>\n",
       "      <td>1442462400000</td>\n",
       "      <td>1</td>\n",
       "      <td>1</td>\n",
       "      <td>0</td>\n",
       "      <td>0</td>\n",
       "      <td>0</td>\n",
       "      <td>0</td>\n",
       "    </tr>\n",
       "    <tr>\n",
       "      <th>3</th>\n",
       "      <td>9/18/2015 0:00</td>\n",
       "      <td>1442548800000</td>\n",
       "      <td>1</td>\n",
       "      <td>1</td>\n",
       "      <td>0</td>\n",
       "      <td>0</td>\n",
       "      <td>0</td>\n",
       "      <td>0</td>\n",
       "    </tr>\n",
       "    <tr>\n",
       "      <th>4</th>\n",
       "      <td>9/19/2015 0:00</td>\n",
       "      <td>1442635200000</td>\n",
       "      <td>1</td>\n",
       "      <td>1</td>\n",
       "      <td>0</td>\n",
       "      <td>0</td>\n",
       "      <td>0</td>\n",
       "      <td>0</td>\n",
       "    </tr>\n",
       "  </tbody>\n",
       "</table>\n",
       "</div>"
      ],
      "text/plain": [
       "          ET_Date  date_start_epoch  race_period  bike_period  race_period_start  race_period_end  bike_period_start  bike_period_end\n",
       "0  9/15/2015 0:00     1442289600000            1            1                  1                0                  1                0\n",
       "1  9/16/2015 0:00     1442376000000            1            1                  0                0                  0                0\n",
       "2  9/17/2015 0:00     1442462400000            1            1                  0                0                  0                0\n",
       "3  9/18/2015 0:00     1442548800000            1            1                  0                0                  0                0\n",
       "4  9/19/2015 0:00     1442635200000            1            1                  0                0                  0                0"
      ]
     },
     "execution_count": 151,
     "metadata": {},
     "output_type": "execute_result"
    }
   ],
   "source": [
    "date_markers.head()"
   ]
  },
  {
   "cell_type": "code",
   "execution_count": 152,
   "metadata": {
    "collapsed": false
   },
   "outputs": [],
   "source": [
    "date_markers = date_markers[date_markers['race_period_start'] > 0].reset_index()\n",
    "#dictionary of race period to start epoch\n",
    "race_start_dict = {}\n",
    "for i in range(0, len(date_markers)):\n",
    "    race_start_dict[date_markers.values[i][3]] = date_markers.values[i][2]\n",
    "\n",
    "#date_markers = date_markers[date_markers['bike_period_start'] > 0].reset_index()\n",
    "#bike_start_dict = {}\n",
    "#for i in range(0, len(date_markers)):\n",
    "#    bike_start_dict[date_markers.values[i][4]] = date_markers.values[i][2]\n"
   ]
  },
  {
   "cell_type": "code",
   "execution_count": 153,
   "metadata": {
    "collapsed": false
   },
   "outputs": [
    {
     "data": {
      "text/plain": [
       "{1L: 1442289600000L,\n",
       " 2L: 1443240000000L,\n",
       " 3L: 1445054400000L,\n",
       " 4L: 1446264000000L,\n",
       " 5L: 1447473600000L}"
      ]
     },
     "execution_count": 153,
     "metadata": {},
     "output_type": "execute_result"
    }
   ],
   "source": [
    "race_start_dict"
   ]
  },
  {
   "cell_type": "code",
   "execution_count": 154,
   "metadata": {
    "collapsed": false
   },
   "outputs": [],
   "source": [
    "#bike_start_dict"
   ]
  },
  {
   "cell_type": "code",
   "execution_count": 155,
   "metadata": {
    "collapsed": false
   },
   "outputs": [],
   "source": [
    "def add_race(df):\n",
    "    if (df.end_epoch >= race_start_dict[1]) and (df.end_epoch < race_start_dict[2]):\n",
    "        return 1\n",
    "    elif (df.end_epoch >= race_start_dict[2]) and (df.end_epoch < race_start_dict[3]):\n",
    "        return 2\n",
    "    elif (df.end_epoch >= race_start_dict[3]) and (df.end_epoch < race_start_dict[4]):\n",
    "        return 3\n",
    "    elif (df.end_epoch >= race_start_dict[4]) and (df.end_epoch < race_start_dict[5]):\n",
    "        return 4\n",
    "    elif (df.end_epoch >= race_start_dict[5]) and (df.end_epoch < 1448164800000):\n",
    "        return 5\n",
    "    else:\n",
    "        return 0\n"
   ]
  },
  {
   "cell_type": "code",
   "execution_count": 156,
   "metadata": {
    "collapsed": false
   },
   "outputs": [],
   "source": [
    "def add_bike(df):\n",
    "    if (df.end_epoch >= bike_start_dict[1]) and (df.end_epoch < bike_start_dict[2]):\n",
    "        return 1\n",
    "    elif (df.end_epoch >= bike_start_dict[2]) and (df.end_epoch < bike_start_dict[3]):\n",
    "        return 2\n",
    "    elif (df.end_epoch >= race_start_dict[3]) and (df.end_epoch < bike_start_dict[4]):\n",
    "        return 3\n",
    "    elif (df.end_epoch >= bike_start_dict[4]) and (df.end_epoch < bike_start_dict[5]):\n",
    "        return 4\n",
    "    elif (df.end_epoch >= bike_start_dict[5]) and (df.end_epoch < bike_start_dict[6]):\n",
    "        return 5\n",
    "    elif (df.end_epoch >= bike_start_dict[6]) and (df.end_epoch < bike_start_dict[7]):\n",
    "        return 6\n",
    "    elif (df.end_epoch >= bike_start_dict[7]) and (df.end_epoch < bike_start_dict[8]):\n",
    "        return 7\n",
    "    elif (df.end_epoch >= bike_start_dict[8]) and (df.end_epoch < bike_start_dict[9]):\n",
    "        return 8\n",
    "    elif (df.end_epoch >= bike_start_dict[9]):\n",
    "        return 9"
   ]
  },
  {
   "cell_type": "code",
   "execution_count": 256,
   "metadata": {
    "collapsed": false
   },
   "outputs": [],
   "source": [
    "def add_periods(date_markers, df, buildup_days=0, version=None):\n",
    "    '''\n",
    "    Adds race periods to the input dataframe 'df'\n",
    "        Inputs: \n",
    "            date_markers: dataframe with the ET date, the start epoch time of that date, and which race period the date is in\n",
    "            df: the dataframe to add these date markers to\n",
    "            buildup_days: if 0, we use the entire time period before the race/bike, after the previous one\n",
    "                if not 0, and instead a value \"n\", we look at the \"n\" days before the race/bike as the \"period\"\n",
    "            version: takes two values: \"bike\", or \"race\", and treats appropriately\n",
    "    '''\n",
    "    if version==None:\n",
    "        print \"Enter Either 'race' or 'bike'!\"\n",
    "    if buildup_days==0:\n",
    "        if version==\"race\":\n",
    "            #Collapse the data frame into only the start and end dates for each race period\n",
    "            date_markers = date_markers[date_markers['race_period_start'] > 0].reset_index()\n",
    "            \n",
    "            #dictionary of race period to start epoch\n",
    "            race_start_dict = {}\n",
    "            for i in range(0, len(date_markers)):\n",
    "                race_start_dict[date_markers.values[i][3]] = date_markers.values[i][2]\n",
    "            \n",
    "            #Now label each race period as 1, 2, 3, 4, or 5\n",
    "            df['race_period'] = df.apply(add_race, axis=1)\n",
    "            \n",
    "            #gett the month and day and put in a column\n",
    "            df['date_md']=df['end'].str[5:10]\n",
    "            df=df.sort(['user_id', 'end_epoch', 'race_period'], ascending=[True, True, False])\n",
    "            \n",
    "            #Create a column for the number of activites for a given day\n",
    "            groups = df.groupby(['user_id','date_md'])\n",
    "            things = groups.agg(['count']).join(pd.DataFrame(groups.size(),columns=['activity_count']))\n",
    "            count_df = pd.DataFrame(things).reset_index()\n",
    "            count_df = count_df.drop([count_df.columns[2], count_df.columns[3], count_df.columns[4], count_df.columns[5],\n",
    "                count_df.columns[6], count_df.columns[7], count_df.columns[8], count_df.columns[9], count_df.columns[10],\n",
    "                count_df.columns[11], count_df.columns[12], count_df.columns[13]], 1)\n",
    "            return_df = df.merge(count_df, how=\"left\")\n",
    "            \n",
    "        elif version==\"bike\":\n",
    "            #same process, but using the bike start dates\n",
    "            date_markers = date_markers[date_markers['bike_period_start'] > 0].reset_index()\n",
    "            bike_start_dict = {}\n",
    "            for i in range(0, len(date_markers)):\n",
    "                bike_start_dict[date_markers.values[i][4]] = date_markers.values[i][2]\n",
    "            df['bike_period'] = df.apply(add_bike, axis=1)\n",
    "            df['date_md']=df['end'].str[5:10]\n",
    "            df=df.sort(['user_id', 'end_epoch', 'bike_period'], ascending=[True, True, False])\n",
    "            groups = df.groupby(['user_id','date_md'])\n",
    "            things = groups.agg(['count']).join(pd.DataFrame(groups.size(),columns=['activity_count']))\n",
    "            count_df = pd.DataFrame(things).reset_index()\n",
    "            count_df = count_df.drop([count_df.columns[2], count_df.columns[3], count_df.columns[4], count_df.columns[5],\n",
    "                count_df.columns[6], count_df.columns[7], count_df.columns[8], count_df.columns[9], count_df.columns[10],\n",
    "                count_df.columns[11], count_df.columns[12], count_df.columns[13]], 1)\n",
    "            return_df = df.merge(count_df, how=\"left\")\n",
    "        return return_df"
   ]
  },
  {
   "cell_type": "code",
   "execution_count": 257,
   "metadata": {
    "collapsed": true
   },
   "outputs": [],
   "source": [
    "test = add_periods(date_markers=date_markers, df=workouts, buildup_days=0, version=\"race\")"
   ]
  },
  {
   "cell_type": "code",
   "execution_count": 259,
   "metadata": {
    "collapsed": false
   },
   "outputs": [
    {
     "data": {
      "text/html": [
       "<div>\n",
       "<table border=\"1\" class=\"dataframe\">\n",
       "  <thead>\n",
       "    <tr style=\"text-align: right;\">\n",
       "      <th></th>\n",
       "      <th>user_id</th>\n",
       "      <th>start</th>\n",
       "      <th>end</th>\n",
       "      <th>sport_id</th>\n",
       "      <th>name</th>\n",
       "      <th>intensity_score</th>\n",
       "      <th>z1</th>\n",
       "      <th>z2</th>\n",
       "      <th>z3</th>\n",
       "      <th>z4</th>\n",
       "      <th>z5</th>\n",
       "      <th>end_epoch</th>\n",
       "      <th>race_period</th>\n",
       "      <th>date_md</th>\n",
       "      <th>activity_count</th>\n",
       "    </tr>\n",
       "  </thead>\n",
       "  <tbody>\n",
       "    <tr>\n",
       "      <th>0</th>\n",
       "      <td>828</td>\n",
       "      <td>2015-09-15 20:08:00</td>\n",
       "      <td>2015-09-15 22:56:00</td>\n",
       "      <td>35</td>\n",
       "      <td>Track &amp; Field</td>\n",
       "      <td>20.508564</td>\n",
       "      <td>1066</td>\n",
       "      <td>1810</td>\n",
       "      <td>1432</td>\n",
       "      <td>4668</td>\n",
       "      <td>679</td>\n",
       "      <td>1442357760000</td>\n",
       "      <td>1</td>\n",
       "      <td>09-15</td>\n",
       "      <td>1</td>\n",
       "    </tr>\n",
       "    <tr>\n",
       "      <th>1</th>\n",
       "      <td>828</td>\n",
       "      <td>2015-09-19 12:46:00</td>\n",
       "      <td>2015-09-19 14:09:00</td>\n",
       "      <td>35</td>\n",
       "      <td>Track &amp; Field</td>\n",
       "      <td>16.823285</td>\n",
       "      <td>506</td>\n",
       "      <td>601</td>\n",
       "      <td>1861</td>\n",
       "      <td>696</td>\n",
       "      <td>22</td>\n",
       "      <td>1442671740000</td>\n",
       "      <td>1</td>\n",
       "      <td>09-19</td>\n",
       "      <td>1</td>\n",
       "    </tr>\n",
       "    <tr>\n",
       "      <th>2</th>\n",
       "      <td>828</td>\n",
       "      <td>2015-09-20 13:15:00</td>\n",
       "      <td>2015-09-20 16:00:00</td>\n",
       "      <td>35</td>\n",
       "      <td>Track &amp; Field</td>\n",
       "      <td>20.506562</td>\n",
       "      <td>929</td>\n",
       "      <td>1302</td>\n",
       "      <td>1329</td>\n",
       "      <td>5353</td>\n",
       "      <td>321</td>\n",
       "      <td>1442764800000</td>\n",
       "      <td>1</td>\n",
       "      <td>09-20</td>\n",
       "      <td>1</td>\n",
       "    </tr>\n",
       "    <tr>\n",
       "      <th>3</th>\n",
       "      <td>828</td>\n",
       "      <td>2015-09-21 18:55:34.582</td>\n",
       "      <td>2015-09-21 18:58:37.876</td>\n",
       "      <td>1</td>\n",
       "      <td>Cycling</td>\n",
       "      <td>4.278678</td>\n",
       "      <td>8</td>\n",
       "      <td>170</td>\n",
       "      <td>5</td>\n",
       "      <td>0</td>\n",
       "      <td>0</td>\n",
       "      <td>1442861917000</td>\n",
       "      <td>1</td>\n",
       "      <td>09-21</td>\n",
       "      <td>2</td>\n",
       "    </tr>\n",
       "    <tr>\n",
       "      <th>4</th>\n",
       "      <td>828</td>\n",
       "      <td>2015-09-21 19:19:00</td>\n",
       "      <td>2015-09-21 21:12:00</td>\n",
       "      <td>35</td>\n",
       "      <td>Track &amp; Field</td>\n",
       "      <td>19.176787</td>\n",
       "      <td>655</td>\n",
       "      <td>1757</td>\n",
       "      <td>1372</td>\n",
       "      <td>2781</td>\n",
       "      <td>28</td>\n",
       "      <td>1442869920000</td>\n",
       "      <td>1</td>\n",
       "      <td>09-21</td>\n",
       "      <td>2</td>\n",
       "    </tr>\n",
       "  </tbody>\n",
       "</table>\n",
       "</div>"
      ],
      "text/plain": [
       "   user_id                    start                      end  sport_id           name  intensity_score    z1    z2    z3    z4   z5      end_epoch  race_period date_md  activity_count\n",
       "0      828      2015-09-15 20:08:00      2015-09-15 22:56:00        35  Track & Field        20.508564  1066  1810  1432  4668  679  1442357760000            1   09-15               1\n",
       "1      828      2015-09-19 12:46:00      2015-09-19 14:09:00        35  Track & Field        16.823285   506   601  1861   696   22  1442671740000            1   09-19               1\n",
       "2      828      2015-09-20 13:15:00      2015-09-20 16:00:00        35  Track & Field        20.506562   929  1302  1329  5353  321  1442764800000            1   09-20               1\n",
       "3      828  2015-09-21 18:55:34.582  2015-09-21 18:58:37.876         1        Cycling         4.278678     8   170     5     0    0  1442861917000            1   09-21               2\n",
       "4      828      2015-09-21 19:19:00      2015-09-21 21:12:00        35  Track & Field        19.176787   655  1757  1372  2781   28  1442869920000            1   09-21               2"
      ]
     },
     "execution_count": 259,
     "metadata": {},
     "output_type": "execute_result"
    }
   ],
   "source": [
    "test.head()"
   ]
  },
  {
   "cell_type": "code",
   "execution_count": null,
   "metadata": {
    "collapsed": true
   },
   "outputs": [],
   "source": []
  }
 ],
 "metadata": {
  "kernelspec": {
   "display_name": "Python 2",
   "language": "python",
   "name": "python2"
  },
  "language_info": {
   "codemirror_mode": {
    "name": "ipython",
    "version": 2
   },
   "file_extension": ".py",
   "mimetype": "text/x-python",
   "name": "python",
   "nbconvert_exporter": "python",
   "pygments_lexer": "ipython2",
   "version": "2.7.10"
  }
 },
 "nbformat": 4,
 "nbformat_minor": 0
}
