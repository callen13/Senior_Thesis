{
 "cells": [
  {
   "cell_type": "code",
   "execution_count": 1,
   "metadata": {
    "collapsed": true
   },
   "outputs": [],
   "source": [
    "%matplotlib inline\n",
    "import numpy as np\n",
    "import scipy as sp\n",
    "import matplotlib as mpl\n",
    "import matplotlib.cm as cm\n",
    "import matplotlib.pyplot as plt\n",
    "import pandas as pd\n",
    "pd.set_option('display.width', 500)\n",
    "pd.set_option('display.max_columns', 100)\n",
    "pd.set_option('display.notebook_repr_html', True)\n",
    "import seaborn as sns\n",
    "sns.set_style(\"whitegrid\")\n",
    "sns.set_context(\"poster\")\n",
    "import time\n",
    "import statsmodels.formula.api as sm\n",
    "from statsmodels.formula.api import ols\n",
    "import random"
   ]
  },
  {
   "cell_type": "code",
   "execution_count": 2,
   "metadata": {
    "collapsed": true
   },
   "outputs": [],
   "source": [
    "# Connect to an R session\n",
    "import rpy2.robjects\n",
    "r = rpy2.robjects.r\n",
    "from rpy2.robjects.packages import importr\n",
    "from rpy2.robjects import Formula\n",
    "from rpy2.robjects.environments import Environment\n",
    "from rpy2.robjects import pandas2ri\n",
    "import rpy2.robjects.numpy2ri\n",
    "rpy2.robjects.numpy2ri.activate()\n",
    "#Specify path with downloaded R packages\n",
    "lib_path = 'C:/Users/BUCKBEAK/Documents/BUCKBEAK/R/win-library/3.2'\n",
    "\n",
    "# load some required packages\n",
    "utils = importr('utils')\n",
    "langR = importr('languageR', lib_loc=lib_path)\n",
    "lme4 = importr('lme4', lib_path)\n",
    "lmerTest=importr('lmerTest', lib_path)\n",
    "mass = importr('MASS', lib_path)\n",
    "#packages = importr('packages', lib_path)"
   ]
  },
  {
   "cell_type": "markdown",
   "metadata": {},
   "source": [
    "First Round Of Hypotheses\n",
    "- Results From Each Individual Variable\n",
    "\n",
    "#####Varying Intercept Only\n",
    "The significant predictors were:\n",
    "- REM second night before\n",
    "- REM weighted 2 days\n",
    "- REM weighted 3 days\n",
    "- REM weighted 4 days\n",
    "- REM expo weighted 2 days\n",
    "- Total sleep weighted 3 days\n",
    "\n",
    "#####Varying Slope and Intercept\n",
    "The significant predictors were:\n",
    "- REM cycle count 2nd night before the race\n",
    "- REM cycle count weighted 3 days\n",
    "- REM cycle count weighted 4 days\n",
    "- total sleep weighted 2 days\n",
    "- total sleep weighted 3 days\n",
    "- total sleep weighted 4 days\n",
    "- total sleep weighted 5 days\n",
    "- total sleep weighted 6 days\n",
    "- REM sleep expo 2 nights\n",
    "- REM sleep expo 3 nights\n",
    "- REM sleep expo 4 nights\n",
    "\n",
    "Therefore, I also added REM cycle count, REM sleep, and total sleep the night before and 2nd night before, as well as weighted 2, 3, and 4 days\n"
   ]
  },
  {
   "cell_type": "code",
   "execution_count": 3,
   "metadata": {
    "collapsed": false
   },
   "outputs": [],
   "source": [
    "sleeps2 = pd.read_csv('sleeps_temp_2.csv')\n",
    "sleeps2 = sleeps2[['user_id', 'date_md', 'time_in_bed', 'latency', 'light_sleep_duration', 'slow_wave_sleep_duration',\n",
    "                  'rem_sleep_duration', 'resting_heart_rate', 'hrv_rmssd', 'cycles_count']]\n",
    "sleeps2['sleep_duration'] = sleeps2['light_sleep_duration'] + sleeps2['rem_sleep_duration'] + sleeps2['slow_wave_sleep_duration']"
   ]
  },
  {
   "cell_type": "code",
   "execution_count": 4,
   "metadata": {
    "collapsed": false
   },
   "outputs": [],
   "source": [
    "#Convert Units\n",
    "sleeps2['time_in_bed'] = sleeps2['time_in_bed'].divide(60000.0)\n",
    "sleeps2['light_sleep_duration'] = sleeps2['light_sleep_duration'].divide(60000.0)\n",
    "sleeps2['slow_wave_sleep_duration'] = sleeps2['slow_wave_sleep_duration'].divide(60000.0)\n",
    "sleeps2['rem_sleep_duration'] = sleeps2['rem_sleep_duration'].divide(60000.0)\n",
    "sleeps2['sleep_duration'] = sleeps2['sleep_duration'].divide(60000.0)\n",
    "sleeps2['latency'] = sleeps2['latency'].divide(60000.0)"
   ]
  },
  {
   "cell_type": "code",
   "execution_count": 6,
   "metadata": {
    "collapsed": false
   },
   "outputs": [
    {
     "data": {
      "text/html": [
       "<div>\n",
       "<table border=\"1\" class=\"dataframe\">\n",
       "  <thead>\n",
       "    <tr style=\"text-align: right;\">\n",
       "      <th></th>\n",
       "      <th>user_id</th>\n",
       "      <th>date_md</th>\n",
       "      <th>time_in_bed</th>\n",
       "      <th>latency</th>\n",
       "      <th>light_sleep_duration</th>\n",
       "      <th>slow_wave_sleep_duration</th>\n",
       "      <th>rem_sleep_duration</th>\n",
       "      <th>resting_heart_rate</th>\n",
       "      <th>hrv_rmssd</th>\n",
       "      <th>cycles_count</th>\n",
       "      <th>sleep_duration</th>\n",
       "    </tr>\n",
       "  </thead>\n",
       "  <tbody>\n",
       "    <tr>\n",
       "      <th>0</th>\n",
       "      <td>828</td>\n",
       "      <td>15-Sep</td>\n",
       "      <td>567.00000</td>\n",
       "      <td>35.002200</td>\n",
       "      <td>370.5</td>\n",
       "      <td>60.0</td>\n",
       "      <td>22.0</td>\n",
       "      <td>49</td>\n",
       "      <td>0.064647</td>\n",
       "      <td>2</td>\n",
       "      <td>452.5</td>\n",
       "    </tr>\n",
       "    <tr>\n",
       "      <th>1</th>\n",
       "      <td>828</td>\n",
       "      <td>16-Sep</td>\n",
       "      <td>603.00000</td>\n",
       "      <td>46.502233</td>\n",
       "      <td>381.0</td>\n",
       "      <td>53.5</td>\n",
       "      <td>58.0</td>\n",
       "      <td>45</td>\n",
       "      <td>0.075670</td>\n",
       "      <td>3</td>\n",
       "      <td>492.5</td>\n",
       "    </tr>\n",
       "    <tr>\n",
       "      <th>2</th>\n",
       "      <td>828</td>\n",
       "      <td>17-Sep</td>\n",
       "      <td>699.00000</td>\n",
       "      <td>130.007833</td>\n",
       "      <td>428.0</td>\n",
       "      <td>54.0</td>\n",
       "      <td>43.0</td>\n",
       "      <td>44</td>\n",
       "      <td>0.036925</td>\n",
       "      <td>4</td>\n",
       "      <td>525.0</td>\n",
       "    </tr>\n",
       "    <tr>\n",
       "      <th>3</th>\n",
       "      <td>828</td>\n",
       "      <td>18-Sep</td>\n",
       "      <td>585.83545</td>\n",
       "      <td>23.500700</td>\n",
       "      <td>413.5</td>\n",
       "      <td>36.0</td>\n",
       "      <td>70.5</td>\n",
       "      <td>53</td>\n",
       "      <td>0.098787</td>\n",
       "      <td>7</td>\n",
       "      <td>520.0</td>\n",
       "    </tr>\n",
       "    <tr>\n",
       "      <th>4</th>\n",
       "      <td>828</td>\n",
       "      <td>20-Sep</td>\n",
       "      <td>485.93915</td>\n",
       "      <td>26.001250</td>\n",
       "      <td>301.5</td>\n",
       "      <td>48.5</td>\n",
       "      <td>65.0</td>\n",
       "      <td>43</td>\n",
       "      <td>0.050816</td>\n",
       "      <td>6</td>\n",
       "      <td>415.0</td>\n",
       "    </tr>\n",
       "  </tbody>\n",
       "</table>\n",
       "</div>"
      ],
      "text/plain": [
       "   user_id date_md  time_in_bed     latency  light_sleep_duration  slow_wave_sleep_duration  rem_sleep_duration  resting_heart_rate  hrv_rmssd  cycles_count  sleep_duration\n",
       "0      828  15-Sep    567.00000   35.002200                 370.5                      60.0                22.0                  49   0.064647             2           452.5\n",
       "1      828  16-Sep    603.00000   46.502233                 381.0                      53.5                58.0                  45   0.075670             3           492.5\n",
       "2      828  17-Sep    699.00000  130.007833                 428.0                      54.0                43.0                  44   0.036925             4           525.0\n",
       "3      828  18-Sep    585.83545   23.500700                 413.5                      36.0                70.5                  53   0.098787             7           520.0\n",
       "4      828  20-Sep    485.93915   26.001250                 301.5                      48.5                65.0                  43   0.050816             6           415.0"
      ]
     },
     "execution_count": 6,
     "metadata": {},
     "output_type": "execute_result"
    }
   ],
   "source": [
    "sleeps2.head()"
   ]
  },
  {
   "cell_type": "code",
   "execution_count": 7,
   "metadata": {
    "collapsed": false
   },
   "outputs": [
    {
     "name": "stdout",
     "output_type": "stream",
     "text": [
      "Latency Mean:  19.3946975457\n",
      "Latency STD: 10.927461307\n",
      "Time In Bed Mean:  543.146848031\n",
      "Time In Bed STD:  78.1850134668\n",
      "Total Sleep Duration Mean:  465.686643322\n",
      "Total Sleep Duration STD:  71.1963828176\n",
      "Light Sleep Duration Mean:  316.339040925\n",
      "Light Sleep Duration STD:  88.0488595291\n",
      "REM Sleep Duration Mean:  72.2773971461\n",
      "REM Sleep Duration STD:  63.8241920826\n",
      "Slow Wave Sleep Duration Mean:  77.0702052511\n",
      "Slow Wave Sleep Duration STD:  41.3127609027\n",
      "REM Cycle Count Mean:  5.20034246575\n",
      "REM Cycle Count STD:  2.88286147667\n",
      "****************************************************************************************************\n",
      "Resting Heart Rate Mean:  46.6712328767\n",
      "Resting Heart Rate STD:  5.70701273614\n",
      "HRV Mean:  0.0967648335616\n",
      "HRV STD:  0.0425443451004\n"
     ]
    }
   ],
   "source": [
    "#Overall Mean\n",
    "print 'Latency Mean: ', np.mean(sleeps2['latency']) \n",
    "print 'Latency STD:', np.std(sleeps2['latency'])\n",
    "print 'Time In Bed Mean: ', np.mean(sleeps2['time_in_bed']) \n",
    "print 'Time In Bed STD: ', np.std(sleeps2['time_in_bed'])\n",
    "print 'Total Sleep Duration Mean: ', np.mean(sleeps2['sleep_duration']) \n",
    "print 'Total Sleep Duration STD: ', np.std(sleeps2['sleep_duration'])\n",
    "print 'Light Sleep Duration Mean: ', np.mean(sleeps2['light_sleep_duration']) \n",
    "print 'Light Sleep Duration STD: ', np.std(sleeps2['light_sleep_duration'])\n",
    "print 'REM Sleep Duration Mean: ', np.mean(sleeps2['rem_sleep_duration']) \n",
    "print 'REM Sleep Duration STD: ', np.std(sleeps2['rem_sleep_duration'])\n",
    "print 'Slow Wave Sleep Duration Mean: ', np.mean(sleeps2['slow_wave_sleep_duration']) \n",
    "print 'Slow Wave Sleep Duration STD: ', np.std(sleeps2['slow_wave_sleep_duration'])\n",
    "print 'REM Cycle Count Mean: ', np.mean(sleeps2['cycles_count']) \n",
    "print 'REM Cycle Count STD: ', np.std(sleeps2['cycles_count'])\n",
    "print '****************************************************************************************************'\n",
    "print 'Resting Heart Rate Mean: ', np.mean(sleeps2['resting_heart_rate']) \n",
    "print 'Resting Heart Rate STD: ', np.std(sleeps2['resting_heart_rate'])\n",
    "print 'HRV Mean: ', np.mean(sleeps2['hrv_rmssd']) \n",
    "print 'HRV STD: ', np.std(sleeps2['hrv_rmssd'])"
   ]
  },
  {
   "cell_type": "code",
   "execution_count": 8,
   "metadata": {
    "collapsed": true
   },
   "outputs": [],
   "source": [
    "group_sleeps = sleeps2.groupby(['user_id']).mean().reset_index()"
   ]
  },
  {
   "cell_type": "code",
   "execution_count": 9,
   "metadata": {
    "collapsed": false
   },
   "outputs": [
    {
     "data": {
      "text/html": [
       "<div>\n",
       "<table border=\"1\" class=\"dataframe\">\n",
       "  <thead>\n",
       "    <tr style=\"text-align: right;\">\n",
       "      <th></th>\n",
       "      <th>user_id</th>\n",
       "      <th>time_in_bed</th>\n",
       "      <th>latency</th>\n",
       "      <th>light_sleep_duration</th>\n",
       "      <th>slow_wave_sleep_duration</th>\n",
       "      <th>rem_sleep_duration</th>\n",
       "      <th>resting_heart_rate</th>\n",
       "      <th>hrv_rmssd</th>\n",
       "      <th>cycles_count</th>\n",
       "      <th>sleep_duration</th>\n",
       "    </tr>\n",
       "  </thead>\n",
       "  <tbody>\n",
       "    <tr>\n",
       "      <th>0</th>\n",
       "      <td>828</td>\n",
       "      <td>600.604588</td>\n",
       "      <td>23.438555</td>\n",
       "      <td>348.918033</td>\n",
       "      <td>98.631147</td>\n",
       "      <td>56.122951</td>\n",
       "      <td>46.180328</td>\n",
       "      <td>0.073060</td>\n",
       "      <td>5.459016</td>\n",
       "      <td>503.672131</td>\n",
       "    </tr>\n",
       "    <tr>\n",
       "      <th>1</th>\n",
       "      <td>2439</td>\n",
       "      <td>484.288686</td>\n",
       "      <td>19.701102</td>\n",
       "      <td>316.617187</td>\n",
       "      <td>63.320312</td>\n",
       "      <td>52.757812</td>\n",
       "      <td>45.578125</td>\n",
       "      <td>0.138526</td>\n",
       "      <td>4.343750</td>\n",
       "      <td>432.695312</td>\n",
       "    </tr>\n",
       "    <tr>\n",
       "      <th>2</th>\n",
       "      <td>2456</td>\n",
       "      <td>516.659591</td>\n",
       "      <td>16.151722</td>\n",
       "      <td>321.118182</td>\n",
       "      <td>72.845455</td>\n",
       "      <td>51.181818</td>\n",
       "      <td>45.400000</td>\n",
       "      <td>0.080337</td>\n",
       "      <td>4.672727</td>\n",
       "      <td>445.145454</td>\n",
       "    </tr>\n",
       "    <tr>\n",
       "      <th>3</th>\n",
       "      <td>2458</td>\n",
       "      <td>562.775088</td>\n",
       "      <td>22.367106</td>\n",
       "      <td>262.904762</td>\n",
       "      <td>86.698412</td>\n",
       "      <td>125.126984</td>\n",
       "      <td>41.555556</td>\n",
       "      <td>0.132692</td>\n",
       "      <td>5.682540</td>\n",
       "      <td>474.730158</td>\n",
       "    </tr>\n",
       "    <tr>\n",
       "      <th>4</th>\n",
       "      <td>2465</td>\n",
       "      <td>531.170096</td>\n",
       "      <td>18.011432</td>\n",
       "      <td>284.962963</td>\n",
       "      <td>113.111111</td>\n",
       "      <td>63.796296</td>\n",
       "      <td>48.574074</td>\n",
       "      <td>0.101814</td>\n",
       "      <td>5.296296</td>\n",
       "      <td>461.870369</td>\n",
       "    </tr>\n",
       "    <tr>\n",
       "      <th>5</th>\n",
       "      <td>2466</td>\n",
       "      <td>537.801364</td>\n",
       "      <td>18.563642</td>\n",
       "      <td>264.593750</td>\n",
       "      <td>44.765625</td>\n",
       "      <td>111.328125</td>\n",
       "      <td>44.531250</td>\n",
       "      <td>0.143979</td>\n",
       "      <td>7.046875</td>\n",
       "      <td>420.687499</td>\n",
       "    </tr>\n",
       "    <tr>\n",
       "      <th>6</th>\n",
       "      <td>2468</td>\n",
       "      <td>575.560370</td>\n",
       "      <td>24.666511</td>\n",
       "      <td>330.258333</td>\n",
       "      <td>95.283333</td>\n",
       "      <td>68.533333</td>\n",
       "      <td>42.066667</td>\n",
       "      <td>0.063789</td>\n",
       "      <td>5.016667</td>\n",
       "      <td>494.074999</td>\n",
       "    </tr>\n",
       "    <tr>\n",
       "      <th>7</th>\n",
       "      <td>2469</td>\n",
       "      <td>560.196745</td>\n",
       "      <td>15.788015</td>\n",
       "      <td>396.531250</td>\n",
       "      <td>69.234375</td>\n",
       "      <td>40.523438</td>\n",
       "      <td>57.421875</td>\n",
       "      <td>0.049487</td>\n",
       "      <td>4.375000</td>\n",
       "      <td>506.289062</td>\n",
       "    </tr>\n",
       "    <tr>\n",
       "      <th>8</th>\n",
       "      <td>2473</td>\n",
       "      <td>533.617241</td>\n",
       "      <td>18.899535</td>\n",
       "      <td>239.153846</td>\n",
       "      <td>75.833333</td>\n",
       "      <td>136.064103</td>\n",
       "      <td>44.435897</td>\n",
       "      <td>0.119295</td>\n",
       "      <td>7.410256</td>\n",
       "      <td>451.051282</td>\n",
       "    </tr>\n",
       "    <tr>\n",
       "      <th>9</th>\n",
       "      <td>2508</td>\n",
       "      <td>523.258945</td>\n",
       "      <td>15.836878</td>\n",
       "      <td>368.791666</td>\n",
       "      <td>56.550000</td>\n",
       "      <td>35.500000</td>\n",
       "      <td>50.033333</td>\n",
       "      <td>0.067510</td>\n",
       "      <td>3.400000</td>\n",
       "      <td>460.841666</td>\n",
       "    </tr>\n",
       "  </tbody>\n",
       "</table>\n",
       "</div>"
      ],
      "text/plain": [
       "   user_id  time_in_bed    latency  light_sleep_duration  slow_wave_sleep_duration  rem_sleep_duration  resting_heart_rate  hrv_rmssd  cycles_count  sleep_duration\n",
       "0      828   600.604588  23.438555            348.918033                 98.631147           56.122951           46.180328   0.073060      5.459016      503.672131\n",
       "1     2439   484.288686  19.701102            316.617187                 63.320312           52.757812           45.578125   0.138526      4.343750      432.695312\n",
       "2     2456   516.659591  16.151722            321.118182                 72.845455           51.181818           45.400000   0.080337      4.672727      445.145454\n",
       "3     2458   562.775088  22.367106            262.904762                 86.698412          125.126984           41.555556   0.132692      5.682540      474.730158\n",
       "4     2465   531.170096  18.011432            284.962963                113.111111           63.796296           48.574074   0.101814      5.296296      461.870369\n",
       "5     2466   537.801364  18.563642            264.593750                 44.765625          111.328125           44.531250   0.143979      7.046875      420.687499\n",
       "6     2468   575.560370  24.666511            330.258333                 95.283333           68.533333           42.066667   0.063789      5.016667      494.074999\n",
       "7     2469   560.196745  15.788015            396.531250                 69.234375           40.523438           57.421875   0.049487      4.375000      506.289062\n",
       "8     2473   533.617241  18.899535            239.153846                 75.833333          136.064103           44.435897   0.119295      7.410256      451.051282\n",
       "9     2508   523.258945  15.836878            368.791666                 56.550000           35.500000           50.033333   0.067510      3.400000      460.841666"
      ]
     },
     "execution_count": 9,
     "metadata": {},
     "output_type": "execute_result"
    }
   ],
   "source": [
    "group_sleeps"
   ]
  },
  {
   "cell_type": "code",
   "execution_count": 10,
   "metadata": {
    "collapsed": true
   },
   "outputs": [],
   "source": [
    "group_sleeps_std = sleeps2.groupby(['user_id']).std().reset_index()"
   ]
  },
  {
   "cell_type": "code",
   "execution_count": 11,
   "metadata": {
    "collapsed": false
   },
   "outputs": [
    {
     "data": {
      "text/html": [
       "<div>\n",
       "<table border=\"1\" class=\"dataframe\">\n",
       "  <thead>\n",
       "    <tr style=\"text-align: right;\">\n",
       "      <th></th>\n",
       "      <th>user_id</th>\n",
       "      <th>time_in_bed</th>\n",
       "      <th>latency</th>\n",
       "      <th>light_sleep_duration</th>\n",
       "      <th>slow_wave_sleep_duration</th>\n",
       "      <th>rem_sleep_duration</th>\n",
       "      <th>resting_heart_rate</th>\n",
       "      <th>hrv_rmssd</th>\n",
       "      <th>cycles_count</th>\n",
       "      <th>sleep_duration</th>\n",
       "    </tr>\n",
       "  </thead>\n",
       "  <tbody>\n",
       "    <tr>\n",
       "      <th>0</th>\n",
       "      <td>828</td>\n",
       "      <td>102.626305</td>\n",
       "      <td>16.789152</td>\n",
       "      <td>60.140404</td>\n",
       "      <td>49.050986</td>\n",
       "      <td>41.262741</td>\n",
       "      <td>2.843168</td>\n",
       "      <td>0.037697</td>\n",
       "      <td>2.947167</td>\n",
       "      <td>51.307235</td>\n",
       "    </tr>\n",
       "    <tr>\n",
       "      <th>1</th>\n",
       "      <td>2439</td>\n",
       "      <td>107.081974</td>\n",
       "      <td>7.188270</td>\n",
       "      <td>93.793117</td>\n",
       "      <td>33.982882</td>\n",
       "      <td>28.517189</td>\n",
       "      <td>2.605274</td>\n",
       "      <td>0.025501</td>\n",
       "      <td>2.418308</td>\n",
       "      <td>101.794011</td>\n",
       "    </tr>\n",
       "    <tr>\n",
       "      <th>2</th>\n",
       "      <td>2456</td>\n",
       "      <td>50.430791</td>\n",
       "      <td>6.510240</td>\n",
       "      <td>70.316346</td>\n",
       "      <td>31.938290</td>\n",
       "      <td>41.306819</td>\n",
       "      <td>2.985148</td>\n",
       "      <td>0.020337</td>\n",
       "      <td>2.449902</td>\n",
       "      <td>54.547098</td>\n",
       "    </tr>\n",
       "    <tr>\n",
       "      <th>3</th>\n",
       "      <td>2458</td>\n",
       "      <td>60.910665</td>\n",
       "      <td>15.316531</td>\n",
       "      <td>99.919518</td>\n",
       "      <td>31.916163</td>\n",
       "      <td>108.697270</td>\n",
       "      <td>2.434813</td>\n",
       "      <td>0.022623</td>\n",
       "      <td>3.577823</td>\n",
       "      <td>68.278711</td>\n",
       "    </tr>\n",
       "    <tr>\n",
       "      <th>4</th>\n",
       "      <td>2465</td>\n",
       "      <td>79.156902</td>\n",
       "      <td>7.654201</td>\n",
       "      <td>60.496519</td>\n",
       "      <td>45.366398</td>\n",
       "      <td>22.804237</td>\n",
       "      <td>5.160086</td>\n",
       "      <td>0.020939</td>\n",
       "      <td>2.142381</td>\n",
       "      <td>70.528544</td>\n",
       "    </tr>\n",
       "    <tr>\n",
       "      <th>5</th>\n",
       "      <td>2466</td>\n",
       "      <td>52.504355</td>\n",
       "      <td>6.901379</td>\n",
       "      <td>55.416882</td>\n",
       "      <td>27.646001</td>\n",
       "      <td>65.985281</td>\n",
       "      <td>4.378768</td>\n",
       "      <td>0.035983</td>\n",
       "      <td>2.983711</td>\n",
       "      <td>64.517778</td>\n",
       "    </tr>\n",
       "    <tr>\n",
       "      <th>6</th>\n",
       "      <td>2468</td>\n",
       "      <td>66.369339</td>\n",
       "      <td>13.091741</td>\n",
       "      <td>84.358320</td>\n",
       "      <td>42.373577</td>\n",
       "      <td>58.982249</td>\n",
       "      <td>2.392550</td>\n",
       "      <td>0.019870</td>\n",
       "      <td>2.368520</td>\n",
       "      <td>59.733931</td>\n",
       "    </tr>\n",
       "    <tr>\n",
       "      <th>7</th>\n",
       "      <td>2469</td>\n",
       "      <td>27.876891</td>\n",
       "      <td>6.849989</td>\n",
       "      <td>64.568400</td>\n",
       "      <td>34.931676</td>\n",
       "      <td>24.736617</td>\n",
       "      <td>3.702443</td>\n",
       "      <td>0.012926</td>\n",
       "      <td>2.791711</td>\n",
       "      <td>33.572452</td>\n",
       "    </tr>\n",
       "    <tr>\n",
       "      <th>8</th>\n",
       "      <td>2473</td>\n",
       "      <td>50.119441</td>\n",
       "      <td>11.397592</td>\n",
       "      <td>58.694252</td>\n",
       "      <td>31.266539</td>\n",
       "      <td>70.095628</td>\n",
       "      <td>3.330836</td>\n",
       "      <td>0.027101</td>\n",
       "      <td>2.413972</td>\n",
       "      <td>44.774258</td>\n",
       "    </tr>\n",
       "    <tr>\n",
       "      <th>9</th>\n",
       "      <td>2508</td>\n",
       "      <td>75.209934</td>\n",
       "      <td>7.211061</td>\n",
       "      <td>80.083500</td>\n",
       "      <td>29.350988</td>\n",
       "      <td>18.893098</td>\n",
       "      <td>4.430123</td>\n",
       "      <td>0.027518</td>\n",
       "      <td>2.132874</td>\n",
       "      <td>75.482600</td>\n",
       "    </tr>\n",
       "  </tbody>\n",
       "</table>\n",
       "</div>"
      ],
      "text/plain": [
       "   user_id  time_in_bed    latency  light_sleep_duration  slow_wave_sleep_duration  rem_sleep_duration  resting_heart_rate  hrv_rmssd  cycles_count  sleep_duration\n",
       "0      828   102.626305  16.789152             60.140404                 49.050986           41.262741            2.843168   0.037697      2.947167       51.307235\n",
       "1     2439   107.081974   7.188270             93.793117                 33.982882           28.517189            2.605274   0.025501      2.418308      101.794011\n",
       "2     2456    50.430791   6.510240             70.316346                 31.938290           41.306819            2.985148   0.020337      2.449902       54.547098\n",
       "3     2458    60.910665  15.316531             99.919518                 31.916163          108.697270            2.434813   0.022623      3.577823       68.278711\n",
       "4     2465    79.156902   7.654201             60.496519                 45.366398           22.804237            5.160086   0.020939      2.142381       70.528544\n",
       "5     2466    52.504355   6.901379             55.416882                 27.646001           65.985281            4.378768   0.035983      2.983711       64.517778\n",
       "6     2468    66.369339  13.091741             84.358320                 42.373577           58.982249            2.392550   0.019870      2.368520       59.733931\n",
       "7     2469    27.876891   6.849989             64.568400                 34.931676           24.736617            3.702443   0.012926      2.791711       33.572452\n",
       "8     2473    50.119441  11.397592             58.694252                 31.266539           70.095628            3.330836   0.027101      2.413972       44.774258\n",
       "9     2508    75.209934   7.211061             80.083500                 29.350988           18.893098            4.430123   0.027518      2.132874       75.482600"
      ]
     },
     "execution_count": 11,
     "metadata": {},
     "output_type": "execute_result"
    }
   ],
   "source": [
    "group_sleeps_std"
   ]
  },
  {
   "cell_type": "code",
   "execution_count": null,
   "metadata": {
    "collapsed": true
   },
   "outputs": [],
   "source": []
  },
  {
   "cell_type": "code",
   "execution_count": 17,
   "metadata": {
    "collapsed": false,
    "scrolled": true
   },
   "outputs": [
    {
     "data": {
      "text/plain": [
       "<matplotlib.text.Text at 0x1f8d1278>"
      ]
     },
     "execution_count": 17,
     "metadata": {},
     "output_type": "execute_result"
    },
    {
     "data": {
      "image/png": "[encoded data removed]",
      "text/plain": [
       "<matplotlib.figure.Figure at 0x29adc0f0>"
      ]
     },
     "metadata": {},
     "output_type": "display_data"
    }
   ],
   "source": [
    "plt.scatter(sleeps2['rem_sleep_duration'], sleeps2['sleep_duration'])\n",
    "plt.title('Total Sleep and REM Sleep Across All Nights')\n",
    "plt.xlabel('REM Sleep Duration (minutes)')\n",
    "plt.ylabel('Total Sleep Duration (minutes)')"
   ]
  },
  {
   "cell_type": "code",
   "execution_count": 20,
   "metadata": {
    "collapsed": false
   },
   "outputs": [
    {
     "data": {
      "text/plain": [
       "<matplotlib.collections.PathCollection at 0x29def080>"
      ]
     },
     "execution_count": 20,
     "metadata": {},
     "output_type": "execute_result"
    },
    {
     "data": {
      "image/png": "[encoded data removed]",
      "text/plain": [
       "<matplotlib.figure.Figure at 0x29be30b8>"
      ]
     },
     "metadata": {},
     "output_type": "display_data"
    }
   ],
   "source": [
    "df = pd.read_csv('df_3.csv')\n",
    "\n",
    "plt.scatter(df['total_sleep_Night_Before'], df['REM_Night_Before'])"
   ]
  },
  {
   "cell_type": "code",
   "execution_count": null,
   "metadata": {
    "collapsed": true
   },
   "outputs": [],
   "source": []
  }
 ],
 "metadata": {
  "kernelspec": {
   "display_name": "Python 2",
   "language": "python",
   "name": "python2"
  },
  "language_info": {
   "codemirror_mode": {
    "name": "ipython",
    "version": 2
   },
   "file_extension": ".py",
   "mimetype": "text/x-python",
   "name": "python",
   "nbconvert_exporter": "python",
   "pygments_lexer": "ipython2",
   "version": "2.7.11"
  }
 },
 "nbformat": 4,
 "nbformat_minor": 0
}
