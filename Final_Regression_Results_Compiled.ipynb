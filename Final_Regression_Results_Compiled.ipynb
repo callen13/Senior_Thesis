{
 "cells": [
  {
   "cell_type": "code",
   "execution_count": null,
   "metadata": {
    "collapsed": true
   },
   "outputs": [],
   "source": [
    "%matplotlib inline\n",
    "import numpy as np\n",
    "import scipy as sp\n",
    "import matplotlib as mpl\n",
    "import matplotlib.cm as cm\n",
    "import matplotlib.pyplot as plt\n",
    "import pandas as pd\n",
    "pd.set_option('display.width', 500)\n",
    "pd.set_option('display.max_columns', 100)\n",
    "pd.set_option('display.notebook_repr_html', True)\n",
    "import seaborn as sns\n",
    "sns.set_style(\"whitegrid\")\n",
    "sns.set_context(\"poster\")\n",
    "import time\n",
    "import statsmodels.formula.api as sm\n",
    "from statsmodels.formula.api import ols\n",
    "import random"
   ]
  },
  {
   "cell_type": "code",
   "execution_count": null,
   "metadata": {
    "collapsed": true
   },
   "outputs": [],
   "source": [
    "# Connect to an R session\n",
    "import rpy2.robjects\n",
    "r = rpy2.robjects.r\n",
    "from rpy2.robjects.packages import importr\n",
    "from rpy2.robjects import Formula\n",
    "from rpy2.robjects.environments import Environment\n",
    "from rpy2.robjects import pandas2ri\n",
    "import rpy2.robjects.numpy2ri\n",
    "rpy2.robjects.numpy2ri.activate()\n",
    "#Specify path with downloaded R packages\n",
    "lib_path = 'C:/Users/BUCKBEAK/Documents/BUCKBEAK/R/win-library/3.2'\n",
    "\n",
    "# load some required packages\n",
    "utils = importr('utils')\n",
    "langR = importr('languageR', lib_loc=lib_path)\n",
    "lme4 = importr('lme4', lib_path)\n",
    "lmerTest=importr('lmerTest', lib_path)\n",
    "mass = importr('MASS', lib_path)\n",
    "#packages = importr('packages', lib_path)"
   ]
  },
  {
   "cell_type": "markdown",
   "metadata": {},
   "source": [
    "First Round Of Hypotheses\n",
    "- Results From Each Individual Variable\n",
    "\n",
    "#####Varying Intercept Only\n",
    "The significant predictors were:\n",
    "- REM second night before\n",
    "- REM weighted 2 days\n",
    "- REM weighted 3 days\n",
    "- REM weighted 4 days\n",
    "- REM expo weighted 2 days\n",
    "- Total sleep weighted 3 days\n",
    "\n",
    "#####Varying Slope and Intercept\n",
    "The significant predictors were:\n",
    "- REM cycle count 2nd night before the race\n",
    "- REM cycle count weighted 3 days\n",
    "- REM cycle count weighted 4 days\n",
    "- total sleep weighted 2 days\n",
    "- total sleep weighted 3 days\n",
    "- total sleep weighted 4 days\n",
    "- total sleep weighted 5 days\n",
    "- total sleep weighted 6 days\n",
    "- REM sleep expo 2 nights\n",
    "- REM sleep expo 3 nights\n",
    "- REM sleep expo 4 nights\n",
    "\n",
    "Therefore, I also added REM cycle count, REM sleep, and total sleep the night before and 2nd night before, as well as weighted 2, 3, and 4 days\n"
   ]
  }
 ],
 "metadata": {
  "kernelspec": {
   "display_name": "Python 2",
   "language": "python",
   "name": "python2"
  },
  "language_info": {
   "codemirror_mode": {
    "name": "ipython",
    "version": 2
   },
   "file_extension": ".py",
   "mimetype": "text/x-python",
   "name": "python",
   "nbconvert_exporter": "python",
   "pygments_lexer": "ipython2",
   "version": "2.7.11"
  }
 },
 "nbformat": 4,
 "nbformat_minor": 0
}
