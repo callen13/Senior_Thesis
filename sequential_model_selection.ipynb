{
 "cells": [
  {
   "cell_type": "code",
   "execution_count": 3,
   "metadata": {
    "collapsed": true
   },
   "outputs": [],
   "source": [
    "%matplotlib inline\n",
    "import numpy as np\n",
    "import scipy as sp\n",
    "import matplotlib as mpl\n",
    "import matplotlib.cm as cm\n",
    "import matplotlib.pyplot as plt\n",
    "import pandas as pd\n",
    "pd.set_option('display.width', 500)\n",
    "pd.set_option('display.max_columns', 100)\n",
    "pd.set_option('display.notebook_repr_html', True)\n",
    "import seaborn as sns\n",
    "sns.set_style(\"whitegrid\")\n",
    "sns.set_context(\"poster\")\n",
    "import time\n",
    "import statsmodels.formula.api as sm\n",
    "from statsmodels.formula.api import ols\n",
    "import random"
   ]
  },
  {
   "cell_type": "code",
   "execution_count": 4,
   "metadata": {
    "collapsed": true
   },
   "outputs": [],
   "source": [
    "# Connect to an R session\n",
    "import rpy2.robjects\n",
    "r = rpy2.robjects.r\n",
    "from rpy2.robjects.packages import importr\n",
    "from rpy2.robjects import Formula\n",
    "from rpy2.robjects.environments import Environment\n",
    "from rpy2.robjects import pandas2ri\n",
    "import rpy2.robjects.numpy2ri\n",
    "rpy2.robjects.numpy2ri.activate()\n",
    "#Specify path with downloaded R packages\n",
    "lib_path = 'C:/Users/BUCKBEAK/Documents/BUCKBEAK/R/win-library/3.2'\n",
    "\n",
    "# load some required packages\n",
    "utils = importr('utils')\n",
    "langR = importr('languageR', lib_loc=lib_path)\n",
    "lme4 = importr('lme4', lib_path)\n",
    "lmerTest=importr('lmerTest', lib_path)"
   ]
  },
  {
   "cell_type": "markdown",
   "metadata": {},
   "source": [
    "#Bring in all datasets from regressions"
   ]
  },
  {
   "cell_type": "code",
   "execution_count": 5,
   "metadata": {
    "collapsed": false
   },
   "outputs": [],
   "source": [
    "#7 days weighted\n",
    "df = pd.read_csv('final_race_df_7daysweighted.csv')\n",
    "df2 = pd.read_csv('workout_final_race_df_7daysweighted.csv')\n",
    "weight_regdf7 = pd.merge(df, df2, how='left')\n",
    "weight_regdf7 = weight_regdf7.drop(df.columns[0], axis=1)\n",
    "\n",
    "#6 days weighted\n",
    "df = pd.read_csv('final_race_df_6daysweighted.csv')\n",
    "df2 = pd.read_csv('workout_final_race_df_6daysweighted.csv')\n",
    "weight_regdf6 = pd.merge(df, df2, how='left')\n",
    "weight_regdf6 = weight_regdf6.drop(df.columns[0], axis=1)\n",
    "\n",
    "#5 days weighted\n",
    "df = pd.read_csv('final_race_df_5daysweighted.csv')\n",
    "df2 = pd.read_csv('workout_final_race_df_5daysweighted.csv')\n",
    "weight_regdf5 = pd.merge(df, df2, how='left')\n",
    "weight_regdf5 = weight_regdf5.drop(df.columns[0], axis=1)\n",
    "\n",
    "#4 days weighted\n",
    "df = pd.read_csv('final_race_df_4daysweighted.csv')\n",
    "df2 = pd.read_csv('workout_final_race_df_4daysweighted.csv')\n",
    "weight_regdf4 = pd.merge(df, df2, how='left')\n",
    "weight_regdf4 = weight_regdf4.drop(df.columns[0], axis=1)\n",
    "\n",
    "#3 days weighted\n",
    "df = pd.read_csv('final_race_df_6daysweighted.csv')\n",
    "df2 = pd.read_csv('workout_final_race_df_6daysweighted.csv')\n",
    "weight_regdf3 = pd.merge(df, df2, how='left')\n",
    "weight_regdf3 = weight_regdf3.drop(df.columns[0], axis=1)\n",
    "\n",
    "#2 days weighted\n",
    "df = pd.read_csv('final_race_df_6daysweighted.csv')\n",
    "df2 = pd.read_csv('workout_final_race_df_6daysweighted.csv')\n",
    "weight_regdf2 = pd.merge(df, df2, how='left')\n",
    "weight_regdf2 = weight_regdf2.drop(df.columns[0], axis=1)\n",
    "\n",
    "#DataFrames for the 5 individual days before the race\n",
    "df = pd.read_csv('race_df_pre_weighting.csv')\n",
    "dummies = pd.get_dummies(df['user_id'], prefix='user')\n",
    "temp_df = pd.concat([df, dummies], axis=1)\n",
    "race_times = pd.read_csv('huxc_race_times.csv')\n",
    "race_times=race_times[race_times['user_id']!=2461]\n",
    "race_times=race_times[race_times['user_id']!=2509]\n",
    "reg_df = temp_df.merge(race_times, how='left')\n",
    "reg_df = reg_df[reg_df['user_id']!=2439]\n",
    "reg_df = reg_df.drop(['user_828'], axis=1)\n",
    "reg_df = reg_df.drop(df.columns[0], axis=1).reset_index(drop=True)\n",
    "\n",
    "reg_df0 = reg_df[reg_df['buildup_days']==0].reset_index(drop=True)\n",
    "reg_df1 = reg_df[reg_df['buildup_days']==1].reset_index(drop=True)\n",
    "reg_df2 = reg_df[reg_df['buildup_days']==2].reset_index(drop=True)\n",
    "reg_df3 = reg_df[reg_df['buildup_days']==3].reset_index(drop=True)\n",
    "reg_df4 = reg_df[reg_df['buildup_days']==4].reset_index(drop=True)\n",
    "reg_df5 = reg_df[reg_df['buildup_days']==5].reset_index(drop=True)\n",
    "\n",
    "#Exponentially Weighted DataFrames\n",
    "rec_weight_df5 = pd.read_csv('expo_final_race_df_5daysweighted.csv')\n",
    "wkout_weight_df5 = pd.read_csv('expo_workout_final_race_df_5daysweighted.csv')\n",
    "expo_weight_df5 = pd.merge(rec_weight_df5, wkout_weight_df5, how='left')\n",
    "expo_weight_df5 = expo_weight_df5.drop(df.columns[0], axis=1)\n",
    "\n",
    "rec_weight_df4 = pd.read_csv('expo_final_race_df_4daysweighted.csv')\n",
    "wkout_weight_df4 = pd.read_csv('expo_workout_final_race_df_4daysweighted.csv')\n",
    "expo_weight_df4 = pd.merge(rec_weight_df4, wkout_weight_df4, how='left')\n",
    "expo_weight_df4 = expo_weight_df4.drop(df.columns[0], axis=1)\n",
    "\n",
    "rec_weight_df3 = pd.read_csv('expo_final_race_df_3daysweighted.csv')\n",
    "wkout_weight_df3 = pd.read_csv('expo_workout_final_race_df_3daysweighted.csv')\n",
    "expo_weight_df3 = pd.merge(rec_weight_df3, wkout_weight_df3, how='left')\n",
    "expo_weight_df3 = expo_weight_df3.drop(df.columns[0], axis=1)\n",
    "\n",
    "rec_weight_df2 = pd.read_csv('expo_final_race_df_2daysweighted.csv')\n",
    "wkout_weight_df2 = pd.read_csv('expo_workout_final_race_df_2daysweighted.csv')\n",
    "expo_weight_df2 = pd.merge(rec_weight_df2, wkout_weight_df2, how='left')\n",
    "expo_weight_df2 = expo_weight_df2.drop(df.columns[0], axis=1)"
   ]
  },
  {
   "cell_type": "markdown",
   "metadata": {},
   "source": [
    "Then grabbing variables that were significant, and put into one dataframe"
   ]
  },
  {
   "cell_type": "markdown",
   "metadata": {},
   "source": [
    "###For Races\n",
    "- REM sleep, runner mixed effects, two nights before the race: significant for both Bonferroni and Permutation Correction\n",
    "- REM sleep, runner mixed effects, weighted two days: significant for Bonferroni only\n",
    "- REM sleep, runner mixed effects, weighted three days: significant for Bonferroni only\n",
    "- Total sleep, runner mixed effects, weighted three days: significant for Bonerroni only\n",
    "- REM sleep, runner mixed effects, weighted four days: significant for Bonerroni only\n",
    "- REM sleep, runner mixed effects, expo weighted 2 days: significant for both Bonferroni and Permutation Correction\n",
    "\n",
    "###For Bike Efforts\n",
    "- Slow wave sleep, runner mixed effects, 2nd night before the bike: significant for Bonferroni"
   ]
  },
  {
   "cell_type": "code",
   "execution_count": 6,
   "metadata": {
    "collapsed": false
   },
   "outputs": [],
   "source": [
    "REM_2nd_Night_Before = reg_df1[['user_id', 'race_period', 'rem_sleep_duration']]\n",
    "REM_Weighted_Two_Days = weight_regdf2[['user_id', 'race_period', 'rem_sleep_duration']]\n",
    "REM_Weighted_Three_Days = weight_regdf3[['user_id', 'race_period', 'rem_sleep_duration']]\n",
    "REM_Weighted_Four_Days = weight_regdf4[['user_id', 'race_period', 'rem_sleep_duration']]\n",
    "REM_Expo_Weighted_Two_Days = expo_weight_df2[['user_id', 'race_period', 'rem_sleep_duration']]\n",
    "total_sleep_weighted_3days = weight_regdf3[['user_id', 'race_period', 'sleep_duration']]\n",
    "\n",
    "#convert to R\n",
    "pandas2ri.activate()\n",
    "R_REM_2nd_Night_Before = pandas2ri.py2ri(REM_2nd_Night_Before)\n",
    "R_REM_Weighted_Two_Days = pandas2ri.py2ri(REM_Weighted_Two_Days)\n",
    "R_REM_Weighted_Three_Days = pandas2ri.py2ri(REM_Weighted_Three_Days)\n",
    "R_REM_Weighted_Four_Days = pandas2ri.py2ri(REM_Weighted_Four_Days)\n",
    "R_REM_Expo_Weighted_Two_Days = pandas2ri.py2ri(REM_Expo_Weighted_Two_Days)\n",
    "R_total_sleep_weighted_3days = pandas2ri.py2ri(total_sleep_weighted_3days)"
   ]
  },
  {
   "cell_type": "code",
   "execution_count": 7,
   "metadata": {
    "collapsed": false
   },
   "outputs": [],
   "source": [
    "df = reg_df0\n",
    "df = reg_df0.drop(['date_md', 'start', 'end', 'score', 'latency', 'time_in_bed', 'wake_duration', 'light_sleep_duration', \n",
    "                  'slow_wave_sleep_duration', 'rem_sleep_duration', 'cycles_count', 'debt_post', 'is_nap', 'recovery_score', \n",
    "                  'resting_heart_rate', 'hrv_rmssd', 'end_epoch', 'buildup_days', 'sleep_duration', 'disturbances'], axis=1)\n",
    "\n",
    "#merge in variables of interest\n",
    "df = df.merge(REM_2nd_Night_Before, how=\"left\")\n",
    "df.rename(columns = {'rem_sleep_duration':'REM_2nd_Night_Before'}, inplace = True)\n",
    "df = df.merge(REM_Weighted_Two_Days, how=\"left\")\n",
    "df.rename(columns = {'rem_sleep_duration':'REM_Weighted_2_Days'}, inplace = True)\n",
    "df = df.merge(REM_Weighted_Three_Days, how=\"left\")\n",
    "df.rename(columns = {'rem_sleep_duration':'REM_Weighted_3_Days'}, inplace = True)\n",
    "df = df.merge(REM_Weighted_Four_Days, how=\"left\")\n",
    "df.rename(columns = {'rem_sleep_duration':'REM_Weighted_4_Days'}, inplace = True)\n",
    "df = df.merge(REM_Expo_Weighted_Two_Days, how=\"left\")\n",
    "df.rename(columns = {'rem_sleep_duration':'REM_Expo_Weighted_2_Days'}, inplace = True)\n",
    "df = df.merge(total_sleep_weighted_3days, how=\"left\")\n",
    "df.rename(columns = {'sleep_duration':'total_sleep_weighted_3days'}, inplace = True)"
   ]
  },
  {
   "cell_type": "code",
   "execution_count": 8,
   "metadata": {
    "collapsed": true
   },
   "outputs": [],
   "source": [
    "#add in average stress data"
   ]
  },
  {
   "cell_type": "code",
   "execution_count": 9,
   "metadata": {
    "collapsed": false
   },
   "outputs": [
    {
     "data": {
      "text/html": [
       "<div>\n",
       "<table border=\"1\" class=\"dataframe\">\n",
       "  <thead>\n",
       "    <tr style=\"text-align: right;\">\n",
       "      <th></th>\n",
       "      <th>user_id</th>\n",
       "      <th>race_period</th>\n",
       "      <th>race_course</th>\n",
       "      <th>user_2439</th>\n",
       "      <th>user_2456</th>\n",
       "      <th>user_2458</th>\n",
       "      <th>user_2465</th>\n",
       "      <th>user_2466</th>\n",
       "      <th>user_2468</th>\n",
       "      <th>user_2469</th>\n",
       "      <th>user_2473</th>\n",
       "      <th>user_2508</th>\n",
       "      <th>seconds</th>\n",
       "      <th>pace_per_k</th>\n",
       "      <th>pace_time</th>\n",
       "      <th>FP_5K</th>\n",
       "      <th>Wisco_8K</th>\n",
       "      <th>Brown_8K</th>\n",
       "      <th>VCP_8K_Heps</th>\n",
       "      <th>FP_10K</th>\n",
       "      <th>VCP_8K_IC4A</th>\n",
       "      <th>REM_2nd_Night_Before</th>\n",
       "      <th>REM_Weighted_2_Days</th>\n",
       "      <th>REM_Weighted_3_Days</th>\n",
       "      <th>REM_Weighted_4_Days</th>\n",
       "      <th>REM_Expo_Weighted_2_Days</th>\n",
       "      <th>total_sleep_weighted_3days</th>\n",
       "    </tr>\n",
       "  </thead>\n",
       "  <tbody>\n",
       "    <tr>\n",
       "      <th>0</th>\n",
       "      <td>828</td>\n",
       "      <td>1</td>\n",
       "      <td>FP_8K</td>\n",
       "      <td>0</td>\n",
       "      <td>0</td>\n",
       "      <td>0</td>\n",
       "      <td>0</td>\n",
       "      <td>0</td>\n",
       "      <td>0</td>\n",
       "      <td>0</td>\n",
       "      <td>0</td>\n",
       "      <td>0</td>\n",
       "      <td>1529.2</td>\n",
       "      <td>191.1500</td>\n",
       "      <td>03:11.1</td>\n",
       "      <td>0</td>\n",
       "      <td>0</td>\n",
       "      <td>0</td>\n",
       "      <td>0</td>\n",
       "      <td>0</td>\n",
       "      <td>0</td>\n",
       "      <td>5310000</td>\n",
       "      <td>4933928.57143</td>\n",
       "      <td>4933928.57143</td>\n",
       "      <td>5002000</td>\n",
       "      <td>5364000</td>\n",
       "      <td>29360357.1429</td>\n",
       "    </tr>\n",
       "    <tr>\n",
       "      <th>1</th>\n",
       "      <td>828</td>\n",
       "      <td>2</td>\n",
       "      <td>Brown_8K</td>\n",
       "      <td>0</td>\n",
       "      <td>0</td>\n",
       "      <td>0</td>\n",
       "      <td>0</td>\n",
       "      <td>0</td>\n",
       "      <td>0</td>\n",
       "      <td>0</td>\n",
       "      <td>0</td>\n",
       "      <td>0</td>\n",
       "      <td>1552.3</td>\n",
       "      <td>194.0375</td>\n",
       "      <td>03:14.0</td>\n",
       "      <td>0</td>\n",
       "      <td>0</td>\n",
       "      <td>1</td>\n",
       "      <td>0</td>\n",
       "      <td>0</td>\n",
       "      <td>0</td>\n",
       "      <td>1230000</td>\n",
       "      <td>3380769.23077</td>\n",
       "      <td>3380769.23077</td>\n",
       "      <td>2938000</td>\n",
       "      <td>744000</td>\n",
       "      <td>29561538.4615</td>\n",
       "    </tr>\n",
       "    <tr>\n",
       "      <th>2</th>\n",
       "      <td>828</td>\n",
       "      <td>3</td>\n",
       "      <td>VCP_8K_Heps</td>\n",
       "      <td>0</td>\n",
       "      <td>0</td>\n",
       "      <td>0</td>\n",
       "      <td>0</td>\n",
       "      <td>0</td>\n",
       "      <td>0</td>\n",
       "      <td>0</td>\n",
       "      <td>0</td>\n",
       "      <td>0</td>\n",
       "      <td>1582.5</td>\n",
       "      <td>197.8125</td>\n",
       "      <td>03:17.8</td>\n",
       "      <td>0</td>\n",
       "      <td>0</td>\n",
       "      <td>0</td>\n",
       "      <td>1</td>\n",
       "      <td>0</td>\n",
       "      <td>0</td>\n",
       "      <td>600000</td>\n",
       "      <td>1354615.38462</td>\n",
       "      <td>1354615.38462</td>\n",
       "      <td>1356000</td>\n",
       "      <td>492000</td>\n",
       "      <td>28440000.0000</td>\n",
       "    </tr>\n",
       "    <tr>\n",
       "      <th>3</th>\n",
       "      <td>828</td>\n",
       "      <td>4</td>\n",
       "      <td>FP_10K</td>\n",
       "      <td>0</td>\n",
       "      <td>0</td>\n",
       "      <td>0</td>\n",
       "      <td>0</td>\n",
       "      <td>0</td>\n",
       "      <td>0</td>\n",
       "      <td>0</td>\n",
       "      <td>0</td>\n",
       "      <td>0</td>\n",
       "      <td>1932.7</td>\n",
       "      <td>193.2700</td>\n",
       "      <td>03:13.3</td>\n",
       "      <td>0</td>\n",
       "      <td>0</td>\n",
       "      <td>0</td>\n",
       "      <td>0</td>\n",
       "      <td>1</td>\n",
       "      <td>0</td>\n",
       "      <td>2580000</td>\n",
       "      <td>4015714.28571</td>\n",
       "      <td>4015714.28571</td>\n",
       "      <td>4488000</td>\n",
       "      <td>8466000</td>\n",
       "      <td>34243928.5714</td>\n",
       "    </tr>\n",
       "    <tr>\n",
       "      <th>4</th>\n",
       "      <td>828</td>\n",
       "      <td>5</td>\n",
       "      <td>VCP_8K_IC4A</td>\n",
       "      <td>0</td>\n",
       "      <td>0</td>\n",
       "      <td>0</td>\n",
       "      <td>0</td>\n",
       "      <td>0</td>\n",
       "      <td>0</td>\n",
       "      <td>0</td>\n",
       "      <td>0</td>\n",
       "      <td>0</td>\n",
       "      <td>1617.6</td>\n",
       "      <td>202.2000</td>\n",
       "      <td>03:22.2</td>\n",
       "      <td>0</td>\n",
       "      <td>0</td>\n",
       "      <td>0</td>\n",
       "      <td>0</td>\n",
       "      <td>0</td>\n",
       "      <td>1</td>\n",
       "      <td>NaN</td>\n",
       "      <td>2973000.00000</td>\n",
       "      <td>2973000.00000</td>\n",
       "      <td>2420000</td>\n",
       "      <td>0</td>\n",
       "      <td>29991000.0000</td>\n",
       "    </tr>\n",
       "  </tbody>\n",
       "</table>\n",
       "</div>"
      ],
      "text/plain": [
       "   user_id  race_period  race_course  user_2439  user_2456  user_2458  user_2465  user_2466  user_2468  user_2469  user_2473  user_2508  seconds  pace_per_k pace_time  FP_5K  Wisco_8K  Brown_8K  VCP_8K_Heps  FP_10K  VCP_8K_IC4A  REM_2nd_Night_Before  REM_Weighted_2_Days  REM_Weighted_3_Days  REM_Weighted_4_Days  REM_Expo_Weighted_2_Days  total_sleep_weighted_3days\n",
       "0      828            1        FP_8K          0          0          0          0          0          0          0          0          0   1529.2    191.1500   03:11.1      0         0         0            0       0            0               5310000        4933928.57143        4933928.57143              5002000                   5364000               29360357.1429\n",
       "1      828            2     Brown_8K          0          0          0          0          0          0          0          0          0   1552.3    194.0375   03:14.0      0         0         1            0       0            0               1230000        3380769.23077        3380769.23077              2938000                    744000               29561538.4615\n",
       "2      828            3  VCP_8K_Heps          0          0          0          0          0          0          0          0          0   1582.5    197.8125   03:17.8      0         0         0            1       0            0                600000        1354615.38462        1354615.38462              1356000                    492000               28440000.0000\n",
       "3      828            4       FP_10K          0          0          0          0          0          0          0          0          0   1932.7    193.2700   03:13.3      0         0         0            0       1            0               2580000        4015714.28571        4015714.28571              4488000                   8466000               34243928.5714\n",
       "4      828            5  VCP_8K_IC4A          0          0          0          0          0          0          0          0          0   1617.6    202.2000   03:22.2      0         0         0            0       0            1                   NaN        2973000.00000        2973000.00000              2420000                         0               29991000.0000"
      ]
     },
     "execution_count": 9,
     "metadata": {},
     "output_type": "execute_result"
    }
   ],
   "source": [
    "df.head()"
   ]
  },
  {
   "cell_type": "markdown",
   "metadata": {},
   "source": [
    "#Mean-Centering the Signficant Regressions"
   ]
  },
  {
   "cell_type": "markdown",
   "metadata": {},
   "source": [
    "###And switching units for better interpretations"
   ]
  },
  {
   "cell_type": "code",
   "execution_count": 34,
   "metadata": {
    "collapsed": false
   },
   "outputs": [
    {
     "data": {
      "text/html": [
       "<div>\n",
       "<table border=\"1\" class=\"dataframe\">\n",
       "  <thead>\n",
       "    <tr style=\"text-align: right;\">\n",
       "      <th></th>\n",
       "      <th>user_id</th>\n",
       "      <th>seconds</th>\n",
       "      <th>pace_per_k</th>\n",
       "      <th>REM_2nd_Night_Before</th>\n",
       "      <th>REM_Weighted_2_Days</th>\n",
       "      <th>REM_Weighted_3_Days</th>\n",
       "      <th>REM_Weighted_4_Days</th>\n",
       "      <th>REM_Expo_Weighted_2_Days</th>\n",
       "      <th>total_sleep_weighted_3days</th>\n",
       "    </tr>\n",
       "  </thead>\n",
       "  <tbody>\n",
       "    <tr>\n",
       "      <th>0</th>\n",
       "      <td>828</td>\n",
       "      <td>1642.860000</td>\n",
       "      <td>195.694000</td>\n",
       "      <td>2430000</td>\n",
       "      <td>3331605.494506</td>\n",
       "      <td>3331605.494506</td>\n",
       "      <td>3240800.00000</td>\n",
       "      <td>3013200</td>\n",
       "      <td>30319364.83516</td>\n",
       "    </tr>\n",
       "    <tr>\n",
       "      <th>1</th>\n",
       "      <td>2456</td>\n",
       "      <td>1601.860000</td>\n",
       "      <td>190.694000</td>\n",
       "      <td>3525000</td>\n",
       "      <td>3481871.237748</td>\n",
       "      <td>3481871.237748</td>\n",
       "      <td>3633863.62303</td>\n",
       "      <td>2481600</td>\n",
       "      <td>26179369.54378</td>\n",
       "    </tr>\n",
       "    <tr>\n",
       "      <th>2</th>\n",
       "      <td>2458</td>\n",
       "      <td>1602.733333</td>\n",
       "      <td>200.341667</td>\n",
       "      <td>8544000</td>\n",
       "      <td>7528500.000002</td>\n",
       "      <td>7528500.000002</td>\n",
       "      <td>7899600.00000</td>\n",
       "      <td>8652000</td>\n",
       "      <td>28775785.71430</td>\n",
       "    </tr>\n",
       "    <tr>\n",
       "      <th>3</th>\n",
       "      <td>2465</td>\n",
       "      <td>1608.760000</td>\n",
       "      <td>191.505000</td>\n",
       "      <td>3846000</td>\n",
       "      <td>4066125.714286</td>\n",
       "      <td>4066125.714286</td>\n",
       "      <td>4204400.00000</td>\n",
       "      <td>3838800</td>\n",
       "      <td>27231932.34894</td>\n",
       "    </tr>\n",
       "    <tr>\n",
       "      <th>4</th>\n",
       "      <td>2466</td>\n",
       "      <td>1679.480000</td>\n",
       "      <td>199.923000</td>\n",
       "      <td>5466000</td>\n",
       "      <td>6581714.235724</td>\n",
       "      <td>6581714.235724</td>\n",
       "      <td>6574999.93334</td>\n",
       "      <td>6160800</td>\n",
       "      <td>25463428.50000</td>\n",
       "    </tr>\n",
       "    <tr>\n",
       "      <th>5</th>\n",
       "      <td>2468</td>\n",
       "      <td>1613.840000</td>\n",
       "      <td>192.164500</td>\n",
       "      <td>4305000</td>\n",
       "      <td>3776571.428570</td>\n",
       "      <td>3776571.428570</td>\n",
       "      <td>3825800.00000</td>\n",
       "      <td>2846400</td>\n",
       "      <td>29739357.08572</td>\n",
       "    </tr>\n",
       "    <tr>\n",
       "      <th>6</th>\n",
       "      <td>2469</td>\n",
       "      <td>1596.233333</td>\n",
       "      <td>199.529167</td>\n",
       "      <td>2700000</td>\n",
       "      <td>2445211.843712</td>\n",
       "      <td>2445211.843712</td>\n",
       "      <td>2470800.00000</td>\n",
       "      <td>2840400</td>\n",
       "      <td>29924211.80086</td>\n",
       "    </tr>\n",
       "    <tr>\n",
       "      <th>7</th>\n",
       "      <td>2473</td>\n",
       "      <td>1488.666667</td>\n",
       "      <td>186.083333</td>\n",
       "      <td>4920000</td>\n",
       "      <td>7661796.791446</td>\n",
       "      <td>7661796.791446</td>\n",
       "      <td>7834157.14286</td>\n",
       "      <td>7117200</td>\n",
       "      <td>24304914.05652</td>\n",
       "    </tr>\n",
       "    <tr>\n",
       "      <th>8</th>\n",
       "      <td>2508</td>\n",
       "      <td>1317.800000</td>\n",
       "      <td>200.365000</td>\n",
       "      <td>2298000</td>\n",
       "      <td>2138500.000000</td>\n",
       "      <td>2138500.000000</td>\n",
       "      <td>2151000.00000</td>\n",
       "      <td>1930800</td>\n",
       "      <td>28408976.19048</td>\n",
       "    </tr>\n",
       "  </tbody>\n",
       "</table>\n",
       "</div>"
      ],
      "text/plain": [
       "   user_id      seconds  pace_per_k  REM_2nd_Night_Before  REM_Weighted_2_Days  REM_Weighted_3_Days  REM_Weighted_4_Days  REM_Expo_Weighted_2_Days  total_sleep_weighted_3days\n",
       "0      828  1642.860000  195.694000               2430000       3331605.494506       3331605.494506        3240800.00000                   3013200              30319364.83516\n",
       "1     2456  1601.860000  190.694000               3525000       3481871.237748       3481871.237748        3633863.62303                   2481600              26179369.54378\n",
       "2     2458  1602.733333  200.341667               8544000       7528500.000002       7528500.000002        7899600.00000                   8652000              28775785.71430\n",
       "3     2465  1608.760000  191.505000               3846000       4066125.714286       4066125.714286        4204400.00000                   3838800              27231932.34894\n",
       "4     2466  1679.480000  199.923000               5466000       6581714.235724       6581714.235724        6574999.93334                   6160800              25463428.50000\n",
       "5     2468  1613.840000  192.164500               4305000       3776571.428570       3776571.428570        3825800.00000                   2846400              29739357.08572\n",
       "6     2469  1596.233333  199.529167               2700000       2445211.843712       2445211.843712        2470800.00000                   2840400              29924211.80086\n",
       "7     2473  1488.666667  186.083333               4920000       7661796.791446       7661796.791446        7834157.14286                   7117200              24304914.05652\n",
       "8     2508  1317.800000  200.365000               2298000       2138500.000000       2138500.000000        2151000.00000                   1930800              28408976.19048"
      ]
     },
     "execution_count": 34,
     "metadata": {},
     "output_type": "execute_result"
    }
   ],
   "source": [
    "#mean-centering pace per kilometer\n",
    "mean_df = df.groupby('user_id').mean().reset_index()\n",
    "mean_df = mean_df.drop(['race_period', 'user_2456', 'user_2458', 'user_2465', 'user_2466', 'user_2473', 'user_2508', 'user_2439', \n",
    "                        'user_2469', 'user_2468', 'FP_5K', 'Wisco_8K', 'Brown_8K', 'VCP_8K_Heps', 'FP_10K', 'VCP_8K_IC4A'], axis=1)\n",
    "mean_df"
   ]
  },
  {
   "cell_type": "markdown",
   "metadata": {},
   "source": [
    "#Trying Multi-Variate Models"
   ]
  },
  {
   "cell_type": "code",
   "execution_count": 73,
   "metadata": {
    "collapsed": false
   },
   "outputs": [
    {
     "name": "stdout",
     "output_type": "stream",
     "text": [
      "Linear mixed model fit by REML t-tests use Satterthwaite approximations to\r\n",
      "\r\n",
      "  degrees of freedom [lmerMod]\r\n",
      "\r\n",
      "Formula: pace_per_k ~ +REM_Weighted_3_Days + total_sleep_weighted_3days +  \r\n",
      "\r\n",
      "    (1 | user_id)\r\n",
      "\r\n",
      "\r\n",
      "\r\n",
      "REML criterion at convergence: 284.2\r\n",
      "\r\n",
      "\r\n",
      "\r\n",
      "Scaled residuals: \r\n",
      "\r\n",
      "     Min       1Q   Median       3Q      Max \r\n",
      "\r\n",
      "-1.78067 -0.52690 -0.09394  0.65317  2.01614 \r\n",
      "\r\n",
      "\r\n",
      "\r\n",
      "Random effects:\r\n",
      "\r\n",
      " Groups   Name        Variance Std.Dev.\r\n",
      "\r\n",
      " user_id  (Intercept) 35.37    5.947   \r\n",
      "\r\n",
      " Residual             24.90    4.990   \r\n",
      "\r\n",
      "Number of obs: 36, groups:  user_id, 9\r\n",
      "\r\n",
      "\r\n",
      "\r\n",
      "Fixed effects:\r\n",
      "\r\n",
      "                             Estimate Std. Error         df t value Pr(>|t|)\r\n",
      "\r\n",
      "(Intercept)                 2.239e+02  1.030e+01  3.198e+01  21.736   <2e-16\r\n",
      "\r\n",
      "REM_Weighted_3_Days        -8.579e-07  3.273e-07  3.272e+01  -2.621   0.0132\r\n",
      "\r\n",
      "total_sleep_weighted_3days -8.819e-07  3.723e-07  3.149e+01  -2.369   0.0241\r\n",
      "\r\n",
      "                              \r\n",
      "\r\n",
      "(Intercept)                ***\r\n",
      "\r\n",
      "REM_Weighted_3_Days        *  \r\n",
      "\r\n",
      "total_sleep_weighted_3days *  \r\n",
      "\r\n",
      "---\r\n",
      "\r\n",
      "Signif. codes:  0 '***' 0.001 '**' 0.01 '*' 0.05 '.' 0.1 ' ' 1\r\n",
      "\r\n",
      "\r\n",
      "\r\n",
      "Correlation of Fixed Effects:\r\n",
      "\r\n",
      "            (Intr) REM_W_\r\n",
      "\r\n",
      "REM_Wgh_3_D  0.131       \r\n",
      "\r\n",
      "ttl_slp_w_3 -0.966 -0.283\r\n",
      "\r\n",
      "fit warnings:\r\n",
      "\r\n",
      "Some predictor variables are on very different scales: consider rescaling\r\n",
      "\n"
     ]
    }
   ],
   "source": [
    "#Testing with weighted DF for 3 days\n",
    "pandas2ri.activate()\n",
    "r_df = pandas2ri.py2ri(df)\n",
    "env=Environment()\n",
    "xlist = ['REM_Weighted_3_Days', 'total_sleep_weighted_3days']\n",
    "fit = stepwise_model(r_df, env, y_var='pace_per_k', x_vars=xlist, group_vars='user_id')\n",
    "print r.summary(fit)"
   ]
  },
  {
   "cell_type": "markdown",
   "metadata": {},
   "source": [
    "#The Functions We Need From Previous Notebooks"
   ]
  },
  {
   "cell_type": "code",
   "execution_count": 10,
   "metadata": {
    "collapsed": true
   },
   "outputs": [],
   "source": [
    "def mixed_effects_model(dftouse, env, y_var, x_var, group_vars=None):\n",
    "    env = env\n",
    "    if group_vars == None:\n",
    "        print 'Not a mixed effects model!'\n",
    "        return 'Not a mixed effects model!'\n",
    "    for varname in r.colnames(dftouse):\n",
    "        env[varname] = dftouse.rx2(varname)\n",
    "    if type(group_vars) == str:\n",
    "        formula = Formula(y_var + ' ~ ' + x_var + ' + (1|' + group_vars + ')', environment = env)\n",
    "        model = lmerTest.lmer(formula)\n",
    "        return r.summary(model)\n",
    "    elif type(group_vars)== tuple or type(group_vars)== list:\n",
    "        if len(group_vars) == 2:\n",
    "            formula = Formula(y_var + ' ~ ' + x_var + ' + (1|' + group_vars[0] + ') + (1|' + group_vars[1] + ')', environment=env)\n",
    "            model = lmerTest.lmer(formula)\n",
    "            return r.summary(model)\n",
    "        elif len(group_vars) == 3:\n",
    "            formula =Formula(y_var + ' ~ ' + x_var + ' + (1|' + group_vars[0] + ' ' + group_vars[1] + ' ' + group_vars[2]+ ')', \n",
    "                             environment = env)\n",
    "            model = lmerTest.lmer(formula)\n",
    "            return r.summary(model)\n",
    "    "
   ]
  },
  {
   "cell_type": "markdown",
   "metadata": {},
   "source": [
    "#Trying a Stepwise Model with all variables"
   ]
  },
  {
   "cell_type": "markdown",
   "metadata": {},
   "source": [
    "However, this was leading to errors"
   ]
  },
  {
   "cell_type": "code",
   "execution_count": 43,
   "metadata": {
    "collapsed": false
   },
   "outputs": [
    {
     "ename": "RRuntimeError",
     "evalue": "Error in solve.default(xtx[inds, inds]) : \n  system is computationally singular: reciprocal condition number = 5.51812e-19\n",
     "output_type": "error",
     "traceback": [
      "\u001b[1;31m---------------------------------------------------------------------------\u001b[0m",
      "\u001b[1;31mRRuntimeError\u001b[0m                             Traceback (most recent call last)",
      "\u001b[1;32m<ipython-input-43-287aad5b6d5e>\u001b[0m in \u001b[0;36m<module>\u001b[1;34m()\u001b[0m\n\u001b[0;32m     12\u001b[0m \u001b[0mformula\u001b[0m \u001b[1;33m=\u001b[0m \u001b[0mFormula\u001b[0m\u001b[1;33m(\u001b[0m\u001b[1;34m'pace_per_k'\u001b[0m \u001b[1;33m+\u001b[0m \u001b[1;34m' ~ '\u001b[0m \u001b[1;33m+\u001b[0m \u001b[0mx_string\u001b[0m \u001b[1;33m+\u001b[0m \u001b[1;34m' + (1|user_id)'\u001b[0m\u001b[1;33m,\u001b[0m \u001b[0menvironment\u001b[0m \u001b[1;33m=\u001b[0m \u001b[0menv\u001b[0m\u001b[1;33m)\u001b[0m\u001b[1;33m\u001b[0m\u001b[0m\n\u001b[0;32m     13\u001b[0m \u001b[0mfit\u001b[0m \u001b[1;33m=\u001b[0m \u001b[0mlmerTest\u001b[0m\u001b[1;33m.\u001b[0m\u001b[0mlmer\u001b[0m\u001b[1;33m(\u001b[0m\u001b[0mformula\u001b[0m\u001b[1;33m)\u001b[0m\u001b[1;33m\u001b[0m\u001b[0m\n\u001b[1;32m---> 14\u001b[1;33m \u001b[0mstepwise_model\u001b[0m \u001b[1;33m=\u001b[0m \u001b[0mr\u001b[0m\u001b[1;33m.\u001b[0m\u001b[0mstep\u001b[0m\u001b[1;33m(\u001b[0m\u001b[0mfit\u001b[0m\u001b[1;33m,\u001b[0m \u001b[0mdirection\u001b[0m\u001b[1;33m=\u001b[0m\u001b[1;34m'both'\u001b[0m\u001b[1;33m)\u001b[0m\u001b[1;33m\u001b[0m\u001b[0m\n\u001b[0m",
      "\u001b[1;32mC:\\Users\\BUCKBEAK\\Anaconda\\lib\\site-packages\\rpy2\\robjects\\functions.pyc\u001b[0m in \u001b[0;36m__call__\u001b[1;34m(self, *args, **kwargs)\u001b[0m\n\u001b[0;32m    176\u001b[0m                 \u001b[0mv\u001b[0m \u001b[1;33m=\u001b[0m \u001b[0mkwargs\u001b[0m\u001b[1;33m.\u001b[0m\u001b[0mpop\u001b[0m\u001b[1;33m(\u001b[0m\u001b[0mk\u001b[0m\u001b[1;33m)\u001b[0m\u001b[1;33m\u001b[0m\u001b[0m\n\u001b[0;32m    177\u001b[0m                 \u001b[0mkwargs\u001b[0m\u001b[1;33m[\u001b[0m\u001b[0mr_k\u001b[0m\u001b[1;33m]\u001b[0m \u001b[1;33m=\u001b[0m \u001b[0mv\u001b[0m\u001b[1;33m\u001b[0m\u001b[0m\n\u001b[1;32m--> 178\u001b[1;33m         \u001b[1;32mreturn\u001b[0m \u001b[0msuper\u001b[0m\u001b[1;33m(\u001b[0m\u001b[0mSignatureTranslatedFunction\u001b[0m\u001b[1;33m,\u001b[0m \u001b[0mself\u001b[0m\u001b[1;33m)\u001b[0m\u001b[1;33m.\u001b[0m\u001b[0m__call__\u001b[0m\u001b[1;33m(\u001b[0m\u001b[1;33m*\u001b[0m\u001b[0margs\u001b[0m\u001b[1;33m,\u001b[0m \u001b[1;33m**\u001b[0m\u001b[0mkwargs\u001b[0m\u001b[1;33m)\u001b[0m\u001b[1;33m\u001b[0m\u001b[0m\n\u001b[0m\u001b[0;32m    179\u001b[0m \u001b[1;33m\u001b[0m\u001b[0m\n\u001b[0;32m    180\u001b[0m \u001b[0mpattern_link\u001b[0m \u001b[1;33m=\u001b[0m \u001b[0mre\u001b[0m\u001b[1;33m.\u001b[0m\u001b[0mcompile\u001b[0m\u001b[1;33m(\u001b[0m\u001b[1;34mr'\\\\link\\{(.+?)\\}'\u001b[0m\u001b[1;33m)\u001b[0m\u001b[1;33m\u001b[0m\u001b[0m\n",
      "\u001b[1;32mC:\\Users\\BUCKBEAK\\Anaconda\\lib\\site-packages\\rpy2\\robjects\\functions.pyc\u001b[0m in \u001b[0;36m__call__\u001b[1;34m(self, *args, **kwargs)\u001b[0m\n\u001b[0;32m    104\u001b[0m         \u001b[1;32mfor\u001b[0m \u001b[0mk\u001b[0m\u001b[1;33m,\u001b[0m \u001b[0mv\u001b[0m \u001b[1;32min\u001b[0m \u001b[0mkwargs\u001b[0m\u001b[1;33m.\u001b[0m\u001b[0mitems\u001b[0m\u001b[1;33m(\u001b[0m\u001b[1;33m)\u001b[0m\u001b[1;33m:\u001b[0m\u001b[1;33m\u001b[0m\u001b[0m\n\u001b[0;32m    105\u001b[0m             \u001b[0mnew_kwargs\u001b[0m\u001b[1;33m[\u001b[0m\u001b[0mk\u001b[0m\u001b[1;33m]\u001b[0m \u001b[1;33m=\u001b[0m \u001b[0mconversion\u001b[0m\u001b[1;33m.\u001b[0m\u001b[0mpy2ri\u001b[0m\u001b[1;33m(\u001b[0m\u001b[0mv\u001b[0m\u001b[1;33m)\u001b[0m\u001b[1;33m\u001b[0m\u001b[0m\n\u001b[1;32m--> 106\u001b[1;33m         \u001b[0mres\u001b[0m \u001b[1;33m=\u001b[0m \u001b[0msuper\u001b[0m\u001b[1;33m(\u001b[0m\u001b[0mFunction\u001b[0m\u001b[1;33m,\u001b[0m \u001b[0mself\u001b[0m\u001b[1;33m)\u001b[0m\u001b[1;33m.\u001b[0m\u001b[0m__call__\u001b[0m\u001b[1;33m(\u001b[0m\u001b[1;33m*\u001b[0m\u001b[0mnew_args\u001b[0m\u001b[1;33m,\u001b[0m \u001b[1;33m**\u001b[0m\u001b[0mnew_kwargs\u001b[0m\u001b[1;33m)\u001b[0m\u001b[1;33m\u001b[0m\u001b[0m\n\u001b[0m\u001b[0;32m    107\u001b[0m         \u001b[0mres\u001b[0m \u001b[1;33m=\u001b[0m \u001b[0mconversion\u001b[0m\u001b[1;33m.\u001b[0m\u001b[0mri2ro\u001b[0m\u001b[1;33m(\u001b[0m\u001b[0mres\u001b[0m\u001b[1;33m)\u001b[0m\u001b[1;33m\u001b[0m\u001b[0m\n\u001b[0;32m    108\u001b[0m         \u001b[1;32mreturn\u001b[0m \u001b[0mres\u001b[0m\u001b[1;33m\u001b[0m\u001b[0m\n",
      "\u001b[1;31mRRuntimeError\u001b[0m: Error in solve.default(xtx[inds, inds]) : \n  system is computationally singular: reciprocal condition number = 5.51812e-19\n"
     ]
    }
   ],
   "source": [
    "env=Environment()\n",
    "xlist = ['hrv_rmssd', 'resting_heart_rate', 'light_sleep_duration', 'rem_sleep_duration', 'slow_wave_sleep_duration',\n",
    "'cycles_count', 'latency', 'z1', 'z2', 'z3', 'z4', 'z5']\n",
    "for varname in r.colnames(reg_test):\n",
    "    env[varname] = reg_test.rx2(varname)\n",
    "x_string= ' + '\n",
    "for i in range(0, len(xlist)):\n",
    "    if i != (len(xlist)-1):\n",
    "        x_string+= xlist[i] + ' + '\n",
    "    else:\n",
    "        x_string+= xlist[i] + ' '\n",
    "formula = Formula('pace_per_k' + ' ~ ' + x_string + ' + (1|user_id)', environment = env)\n",
    "fit = lmerTest.lmer(formula)\n",
    "stepwise_model = r.step(fit, direction='both')"
   ]
  },
  {
   "cell_type": "code",
   "execution_count": null,
   "metadata": {
    "collapsed": true
   },
   "outputs": [],
   "source": []
  },
  {
   "cell_type": "code",
   "execution_count": null,
   "metadata": {
    "collapsed": true
   },
   "outputs": [],
   "source": []
  },
  {
   "cell_type": "code",
   "execution_count": null,
   "metadata": {
    "collapsed": true
   },
   "outputs": [],
   "source": []
  },
  {
   "cell_type": "code",
   "execution_count": null,
   "metadata": {
    "collapsed": true
   },
   "outputs": [],
   "source": []
  },
  {
   "cell_type": "code",
   "execution_count": 20,
   "metadata": {
    "collapsed": false
   },
   "outputs": [],
   "source": [
    "xlist = ['hrv_rmssd', 'resting_heart_rate', 'light_sleep_duration', 'rem_sleep_duration', 'sleep_duration', 'slow_wave_sleep_duration',\n",
    "'cycles_count', 'time_in_bed', 'latency', 'z1', 'z2', 'z3', 'z4', 'z5']"
   ]
  },
  {
   "cell_type": "code",
   "execution_count": 63,
   "metadata": {
    "collapsed": true
   },
   "outputs": [],
   "source": [
    "def stepwise_model(dftouse, env, y_var, x_vars, group_vars=None):\n",
    "    if group_vars==None:\n",
    "        print 'Not a mixed effects model!'\n",
    "        return 'Not a mixed effects model!'\n",
    "    env=env\n",
    "    for varname in r.colnames(dftouse):\n",
    "        env[varname] = dftouse.rx2(varname)\n",
    "    \n",
    "    x_string= ' + '\n",
    "    for i in range(0, len(xlist)):\n",
    "        if i != (len(xlist)-1):\n",
    "            x_string+= xlist[i] + ' + '\n",
    "        else:\n",
    "            x_string+= xlist[i] + ' '\n",
    "    \n",
    "    if type(group_vars) == str:\n",
    "        formula = Formula(y_var + ' ~ ' + x_string + ' + (1|' + group_vars + ')', environment = env)\n",
    "        fit = lmerTest.lmer(formula)\n",
    "        return fit\n",
    "    \n",
    "    elif type(group_vars)== tuple or type(group_vars)== list:\n",
    "        if len(group_vars) == 2:\n",
    "            formula = Formula(y_var + ' ~ ' + x_string + ' + (1|' + group_vars[0] + ') + (1|' + group_vars[1] + ')', environment=env)\n",
    "            fit = lmerTest.lmer(formula)\n",
    "            return fit\n",
    "        \n",
    "        elif len(group_vars) == 3:\n",
    "            formula =Formula(y_var + ' ~ ' + x_string + ' + (1|' + group_vars[0] + ' ' + group_vars[1] + ' ' + group_vars[2]+ ')', \n",
    "                             environment = env)\n",
    "            fit = lmerTest.lmer(formula)\n",
    "            return fit"
   ]
  },
  {
   "cell_type": "code",
   "execution_count": 26,
   "metadata": {
    "collapsed": false
   },
   "outputs": [
    {
     "ename": "RRuntimeError",
     "evalue": "Error: Dropping columns failed to produce full column rank design matrix\n",
     "output_type": "error",
     "traceback": [
      "\u001b[1;31m---------------------------------------------------------------------------\u001b[0m",
      "\u001b[1;31mRRuntimeError\u001b[0m                             Traceback (most recent call last)",
      "\u001b[1;32m<ipython-input-26-ab9032918ec5>\u001b[0m in \u001b[0;36m<module>\u001b[1;34m()\u001b[0m\n\u001b[0;32m      1\u001b[0m \u001b[0menv\u001b[0m\u001b[1;33m=\u001b[0m\u001b[0mEnvironment\u001b[0m\u001b[1;33m(\u001b[0m\u001b[1;33m)\u001b[0m\u001b[1;33m\u001b[0m\u001b[0m\n\u001b[1;32m----> 2\u001b[1;33m \u001b[0mfit\u001b[0m \u001b[1;33m=\u001b[0m \u001b[0mstepwise_model\u001b[0m\u001b[1;33m(\u001b[0m\u001b[0mreg_test\u001b[0m\u001b[1;33m,\u001b[0m \u001b[0menv\u001b[0m\u001b[1;33m,\u001b[0m \u001b[1;34m'pace_per_k'\u001b[0m\u001b[1;33m,\u001b[0m \u001b[0mxlist\u001b[0m\u001b[1;33m,\u001b[0m \u001b[0mgroup_vars\u001b[0m\u001b[1;33m=\u001b[0m\u001b[1;34m'user_id'\u001b[0m\u001b[1;33m)\u001b[0m\u001b[1;33m\u001b[0m\u001b[0m\n\u001b[0m",
      "\u001b[1;32m<ipython-input-25-333b31c74ebf>\u001b[0m in \u001b[0;36mstepwise_model\u001b[1;34m(dftouse, env, y_var, x_vars, group_vars)\u001b[0m\n\u001b[0;32m     16\u001b[0m     \u001b[1;32mif\u001b[0m \u001b[0mtype\u001b[0m\u001b[1;33m(\u001b[0m\u001b[0mgroup_vars\u001b[0m\u001b[1;33m)\u001b[0m \u001b[1;33m==\u001b[0m \u001b[0mstr\u001b[0m\u001b[1;33m:\u001b[0m\u001b[1;33m\u001b[0m\u001b[0m\n\u001b[0;32m     17\u001b[0m         \u001b[0mformula\u001b[0m \u001b[1;33m=\u001b[0m \u001b[0mFormula\u001b[0m\u001b[1;33m(\u001b[0m\u001b[0my_var\u001b[0m \u001b[1;33m+\u001b[0m \u001b[1;34m' ~ '\u001b[0m \u001b[1;33m+\u001b[0m \u001b[0mx_string\u001b[0m \u001b[1;33m+\u001b[0m \u001b[1;34m' + (1|'\u001b[0m \u001b[1;33m+\u001b[0m \u001b[0mgroup_vars\u001b[0m \u001b[1;33m+\u001b[0m \u001b[1;34m')'\u001b[0m\u001b[1;33m,\u001b[0m \u001b[0menvironment\u001b[0m \u001b[1;33m=\u001b[0m \u001b[0menv\u001b[0m\u001b[1;33m)\u001b[0m\u001b[1;33m\u001b[0m\u001b[0m\n\u001b[1;32m---> 18\u001b[1;33m         \u001b[0mfit\u001b[0m \u001b[1;33m=\u001b[0m \u001b[0mlmerTest\u001b[0m\u001b[1;33m.\u001b[0m\u001b[0mlmer\u001b[0m\u001b[1;33m(\u001b[0m\u001b[0mformula\u001b[0m\u001b[1;33m)\u001b[0m\u001b[1;33m\u001b[0m\u001b[0m\n\u001b[0m\u001b[0;32m     19\u001b[0m         \u001b[1;32mreturn\u001b[0m \u001b[0mfit\u001b[0m\u001b[1;33m\u001b[0m\u001b[0m\n\u001b[0;32m     20\u001b[0m \u001b[1;33m\u001b[0m\u001b[0m\n",
      "\u001b[1;32mC:\\Users\\BUCKBEAK\\Anaconda\\lib\\site-packages\\rpy2\\robjects\\functions.pyc\u001b[0m in \u001b[0;36m__call__\u001b[1;34m(self, *args, **kwargs)\u001b[0m\n\u001b[0;32m    176\u001b[0m                 \u001b[0mv\u001b[0m \u001b[1;33m=\u001b[0m \u001b[0mkwargs\u001b[0m\u001b[1;33m.\u001b[0m\u001b[0mpop\u001b[0m\u001b[1;33m(\u001b[0m\u001b[0mk\u001b[0m\u001b[1;33m)\u001b[0m\u001b[1;33m\u001b[0m\u001b[0m\n\u001b[0;32m    177\u001b[0m                 \u001b[0mkwargs\u001b[0m\u001b[1;33m[\u001b[0m\u001b[0mr_k\u001b[0m\u001b[1;33m]\u001b[0m \u001b[1;33m=\u001b[0m \u001b[0mv\u001b[0m\u001b[1;33m\u001b[0m\u001b[0m\n\u001b[1;32m--> 178\u001b[1;33m         \u001b[1;32mreturn\u001b[0m \u001b[0msuper\u001b[0m\u001b[1;33m(\u001b[0m\u001b[0mSignatureTranslatedFunction\u001b[0m\u001b[1;33m,\u001b[0m \u001b[0mself\u001b[0m\u001b[1;33m)\u001b[0m\u001b[1;33m.\u001b[0m\u001b[0m__call__\u001b[0m\u001b[1;33m(\u001b[0m\u001b[1;33m*\u001b[0m\u001b[0margs\u001b[0m\u001b[1;33m,\u001b[0m \u001b[1;33m**\u001b[0m\u001b[0mkwargs\u001b[0m\u001b[1;33m)\u001b[0m\u001b[1;33m\u001b[0m\u001b[0m\n\u001b[0m\u001b[0;32m    179\u001b[0m \u001b[1;33m\u001b[0m\u001b[0m\n\u001b[0;32m    180\u001b[0m \u001b[0mpattern_link\u001b[0m \u001b[1;33m=\u001b[0m \u001b[0mre\u001b[0m\u001b[1;33m.\u001b[0m\u001b[0mcompile\u001b[0m\u001b[1;33m(\u001b[0m\u001b[1;34mr'\\\\link\\{(.+?)\\}'\u001b[0m\u001b[1;33m)\u001b[0m\u001b[1;33m\u001b[0m\u001b[0m\n",
      "\u001b[1;32mC:\\Users\\BUCKBEAK\\Anaconda\\lib\\site-packages\\rpy2\\robjects\\functions.pyc\u001b[0m in \u001b[0;36m__call__\u001b[1;34m(self, *args, **kwargs)\u001b[0m\n\u001b[0;32m    104\u001b[0m         \u001b[1;32mfor\u001b[0m \u001b[0mk\u001b[0m\u001b[1;33m,\u001b[0m \u001b[0mv\u001b[0m \u001b[1;32min\u001b[0m \u001b[0mkwargs\u001b[0m\u001b[1;33m.\u001b[0m\u001b[0mitems\u001b[0m\u001b[1;33m(\u001b[0m\u001b[1;33m)\u001b[0m\u001b[1;33m:\u001b[0m\u001b[1;33m\u001b[0m\u001b[0m\n\u001b[0;32m    105\u001b[0m             \u001b[0mnew_kwargs\u001b[0m\u001b[1;33m[\u001b[0m\u001b[0mk\u001b[0m\u001b[1;33m]\u001b[0m \u001b[1;33m=\u001b[0m \u001b[0mconversion\u001b[0m\u001b[1;33m.\u001b[0m\u001b[0mpy2ri\u001b[0m\u001b[1;33m(\u001b[0m\u001b[0mv\u001b[0m\u001b[1;33m)\u001b[0m\u001b[1;33m\u001b[0m\u001b[0m\n\u001b[1;32m--> 106\u001b[1;33m         \u001b[0mres\u001b[0m \u001b[1;33m=\u001b[0m \u001b[0msuper\u001b[0m\u001b[1;33m(\u001b[0m\u001b[0mFunction\u001b[0m\u001b[1;33m,\u001b[0m \u001b[0mself\u001b[0m\u001b[1;33m)\u001b[0m\u001b[1;33m.\u001b[0m\u001b[0m__call__\u001b[0m\u001b[1;33m(\u001b[0m\u001b[1;33m*\u001b[0m\u001b[0mnew_args\u001b[0m\u001b[1;33m,\u001b[0m \u001b[1;33m**\u001b[0m\u001b[0mnew_kwargs\u001b[0m\u001b[1;33m)\u001b[0m\u001b[1;33m\u001b[0m\u001b[0m\n\u001b[0m\u001b[0;32m    107\u001b[0m         \u001b[0mres\u001b[0m \u001b[1;33m=\u001b[0m \u001b[0mconversion\u001b[0m\u001b[1;33m.\u001b[0m\u001b[0mri2ro\u001b[0m\u001b[1;33m(\u001b[0m\u001b[0mres\u001b[0m\u001b[1;33m)\u001b[0m\u001b[1;33m\u001b[0m\u001b[0m\n\u001b[0;32m    108\u001b[0m         \u001b[1;32mreturn\u001b[0m \u001b[0mres\u001b[0m\u001b[1;33m\u001b[0m\u001b[0m\n",
      "\u001b[1;31mRRuntimeError\u001b[0m: Error: Dropping columns failed to produce full column rank design matrix\n"
     ]
    }
   ],
   "source": [
    "env=Environment()\n",
    "fit = stepwise_model(reg_test, env, 'pace_per_k', xlist, group_vars='user_id')"
   ]
  },
  {
   "cell_type": "code",
   "execution_count": null,
   "metadata": {
    "collapsed": true
   },
   "outputs": [],
   "source": []
  },
  {
   "cell_type": "code",
   "execution_count": null,
   "metadata": {
    "collapsed": true
   },
   "outputs": [],
   "source": []
  },
  {
   "cell_type": "code",
   "execution_count": null,
   "metadata": {
    "collapsed": true
   },
   "outputs": [],
   "source": []
  },
  {
   "cell_type": "code",
   "execution_count": null,
   "metadata": {
    "collapsed": true
   },
   "outputs": [],
   "source": []
  },
  {
   "cell_type": "code",
   "execution_count": null,
   "metadata": {
    "collapsed": true
   },
   "outputs": [],
   "source": []
  }
 ],
 "metadata": {
  "kernelspec": {
   "display_name": "Python 2",
   "language": "python",
   "name": "python2"
  },
  "language_info": {
   "codemirror_mode": {
    "name": "ipython",
    "version": 2
   },
   "file_extension": ".py",
   "mimetype": "text/x-python",
   "name": "python",
   "nbconvert_exporter": "python",
   "pygments_lexer": "ipython2",
   "version": "2.7.11"
  }
 },
 "nbformat": 4,
 "nbformat_minor": 0
}
