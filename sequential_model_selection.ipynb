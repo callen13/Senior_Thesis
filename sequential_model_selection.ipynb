{
 "cells": [
  {
   "cell_type": "code",
   "execution_count": 2,
   "metadata": {
    "collapsed": true
   },
   "outputs": [],
   "source": [
    "%matplotlib inline\n",
    "import numpy as np\n",
    "import scipy as sp\n",
    "import matplotlib as mpl\n",
    "import matplotlib.cm as cm\n",
    "import matplotlib.pyplot as plt\n",
    "import pandas as pd\n",
    "pd.set_option('display.width', 500)\n",
    "pd.set_option('display.max_columns', 100)\n",
    "pd.set_option('display.notebook_repr_html', True)\n",
    "import seaborn as sns\n",
    "sns.set_style(\"whitegrid\")\n",
    "sns.set_context(\"poster\")\n",
    "import time\n",
    "import statsmodels.formula.api as sm\n",
    "from statsmodels.formula.api import ols\n",
    "import random"
   ]
  },
  {
   "cell_type": "code",
   "execution_count": 3,
   "metadata": {
    "collapsed": true
   },
   "outputs": [],
   "source": [
    "# Connect to an R session\n",
    "import rpy2.robjects\n",
    "r = rpy2.robjects.r\n",
    "from rpy2.robjects.packages import importr\n",
    "from rpy2.robjects import Formula\n",
    "from rpy2.robjects.environments import Environment\n",
    "from rpy2.robjects import pandas2ri\n",
    "import rpy2.robjects.numpy2ri\n",
    "rpy2.robjects.numpy2ri.activate()\n",
    "#Specify path with downloaded R packages\n",
    "lib_path = 'C:/Users/BUCKBEAK/Documents/BUCKBEAK/R/win-library/3.2'\n",
    "\n",
    "# load some required packages\n",
    "utils = importr('utils')\n",
    "langR = importr('languageR', lib_loc=lib_path)\n",
    "lme4 = importr('lme4', lib_path)\n",
    "lmerTest=importr('lmerTest', lib_path)"
   ]
  },
  {
   "cell_type": "markdown",
   "metadata": {},
   "source": [
    "#Bring in all datasets from regressions"
   ]
  },
  {
   "cell_type": "code",
   "execution_count": 6,
   "metadata": {
    "collapsed": false
   },
   "outputs": [],
   "source": [
    "#7 days weighted\n",
    "df = pd.read_csv('final_race_df_7daysweighted.csv')\n",
    "df2 = pd.read_csv('workout_final_race_df_7daysweighted.csv')\n",
    "weight_regdf7 = pd.merge(df, df2, how='left')\n",
    "weight_regdf7 = weight_regdf7.drop(df.columns[0], axis=1)\n",
    "\n",
    "#6 days weighted\n",
    "df = pd.read_csv('final_race_df_6daysweighted.csv')\n",
    "df2 = pd.read_csv('workout_final_race_df_6daysweighted.csv')\n",
    "weight_regdf6 = pd.merge(df, df2, how='left')\n",
    "weight_regdf6 = weight_regdf6.drop(df.columns[0], axis=1)\n",
    "\n",
    "#5 days weighted\n",
    "df = pd.read_csv('final_race_df_5daysweighted.csv')\n",
    "df2 = pd.read_csv('workout_final_race_df_5daysweighted.csv')\n",
    "weight_regdf5 = pd.merge(df, df2, how='left')\n",
    "weight_regdf5 = weight_regdf5.drop(df.columns[0], axis=1)\n",
    "\n",
    "#4 days weighted\n",
    "df = pd.read_csv('final_race_df_4daysweighted.csv')\n",
    "df2 = pd.read_csv('workout_final_race_df_4daysweighted.csv')\n",
    "weight_regdf4 = pd.merge(df, df2, how='left')\n",
    "weight_regdf4 = weight_regdf4.drop(df.columns[0], axis=1)\n",
    "\n",
    "#3 days weighted\n",
    "df = pd.read_csv('final_race_df_6daysweighted.csv')\n",
    "df2 = pd.read_csv('workout_final_race_df_6daysweighted.csv')\n",
    "weight_regdf3 = pd.merge(df, df2, how='left')\n",
    "weight_regdf3 = weight_regdf3.drop(df.columns[0], axis=1)\n",
    "\n",
    "#2 days weighted\n",
    "df = pd.read_csv('final_race_df_6daysweighted.csv')\n",
    "df2 = pd.read_csv('workout_final_race_df_6daysweighted.csv')\n",
    "weight_regdf2 = pd.merge(df, df2, how='left')\n",
    "weight_regdf2 = weight_regdf2.drop(df.columns[0], axis=1)\n",
    "\n",
    "#DataFrames for the 5 individual days before the race\n",
    "df = pd.read_csv('race_df_pre_weighting.csv')\n",
    "dummies = pd.get_dummies(df['user_id'], prefix='user')\n",
    "temp_df = pd.concat([df, dummies], axis=1)\n",
    "race_times = pd.read_csv('huxc_race_times.csv')\n",
    "race_times=race_times[race_times['user_id']!=2461]\n",
    "race_times=race_times[race_times['user_id']!=2509]\n",
    "reg_df = temp_df.merge(race_times, how='left')\n",
    "reg_df = reg_df[reg_df['user_id']!=2439]\n",
    "reg_df = reg_df.drop(['user_828'], axis=1)\n",
    "reg_df = reg_df.drop(df.columns[0], axis=1).reset_index(drop=True)\n",
    "\n",
    "reg_df0 = reg_df[reg_df['buildup_days']==0].reset_index(drop=True)\n",
    "reg_df1 = reg_df[reg_df['buildup_days']==1].reset_index(drop=True)\n",
    "reg_df2 = reg_df[reg_df['buildup_days']==2].reset_index(drop=True)\n",
    "reg_df3 = reg_df[reg_df['buildup_days']==3].reset_index(drop=True)\n",
    "reg_df4 = reg_df[reg_df['buildup_days']==4].reset_index(drop=True)\n",
    "reg_df5 = reg_df[reg_df['buildup_days']==5].reset_index(drop=True)\n",
    "\n",
    "#Exponentially Weighted DataFrames\n",
    "rec_weight_df5 = pd.read_csv('expo_final_race_df_5daysweighted.csv')\n",
    "wkout_weight_df5 = pd.read_csv('expo_workout_final_race_df_5daysweighted.csv')\n",
    "expo_weight_df5 = pd.merge(rec_weight_df5, wkout_weight_df5, how='left')\n",
    "expo_weight_df5 = expo_weight_df5.drop(df.columns[0], axis=1)\n",
    "\n",
    "rec_weight_df4 = pd.read_csv('expo_final_race_df_4daysweighted.csv')\n",
    "wkout_weight_df4 = pd.read_csv('expo_workout_final_race_df_4daysweighted.csv')\n",
    "expo_weight_df4 = pd.merge(rec_weight_df4, wkout_weight_df4, how='left')\n",
    "expo_weight_df4 = expo_weight_df4.drop(df.columns[0], axis=1)\n",
    "\n",
    "rec_weight_df3 = pd.read_csv('expo_final_race_df_3daysweighted.csv')\n",
    "wkout_weight_df3 = pd.read_csv('expo_workout_final_race_df_3daysweighted.csv')\n",
    "expo_weight_df3 = pd.merge(rec_weight_df3, wkout_weight_df3, how='left')\n",
    "expo_weight_df3 = expo_weight_df3.drop(df.columns[0], axis=1)\n",
    "\n",
    "rec_weight_df2 = pd.read_csv('expo_final_race_df_2daysweighted.csv')\n",
    "wkout_weight_df2 = pd.read_csv('expo_workout_final_race_df_2daysweighted.csv')\n",
    "expo_weight_df2 = pd.merge(rec_weight_df2, wkout_weight_df2, how='left')\n",
    "expo_weight_df2 = expo_weight_df2.drop(df.columns[0], axis=1)"
   ]
  },
  {
   "cell_type": "markdown",
   "metadata": {},
   "source": [
    "Then grabbing variables that were significant, and put into one dataframe"
   ]
  },
  {
   "cell_type": "markdown",
   "metadata": {},
   "source": [
    "- REM sleep, runner mixed effects, two nights before the race: significant for both Bonferroni and Permutation Correction\n",
    "- REM sleep, runner mixed effects, weighted two days: significant for Bonferroni only\n",
    "- REM sleep, runner mixed effects, weighted three days: significant for Bonferroni only\n",
    "- Total sleep, runner mixed effects, weighted three days: significant for Bonerroni only\n",
    "- REM sleep, runner mixed effects, weighted four days: significant for Bonerroni only\n",
    "- "
   ]
  },
  {
   "cell_type": "markdown",
   "metadata": {},
   "source": [
    "#The Functions We Need From Previous Notebooks"
   ]
  },
  {
   "cell_type": "code",
   "execution_count": 4,
   "metadata": {
    "collapsed": true
   },
   "outputs": [],
   "source": [
    "def mixed_effects_model(dftouse, env, y_var, x_var, group_vars=None):\n",
    "    env = env\n",
    "    if group_vars == None:\n",
    "        print 'Not a mixed effects model!'\n",
    "        return 'Not a mixed effects model!'\n",
    "    for varname in r.colnames(dftouse):\n",
    "        env[varname] = dftouse.rx2(varname)\n",
    "    if type(group_vars) == str:\n",
    "        formula = Formula(y_var + ' ~ ' + x_var + ' + (1|' + group_vars + ')', environment = env)\n",
    "        model = lmerTest.lmer(formula)\n",
    "        return r.summary(model)\n",
    "    elif type(group_vars)== tuple or type(group_vars)== list:\n",
    "        if len(group_vars) == 2:\n",
    "            formula = Formula(y_var + ' ~ ' + x_var + ' + (1|' + group_vars[0] + ') + (1|' + group_vars[1] + ')', environment=env)\n",
    "            model = lmerTest.lmer(formula)\n",
    "            return r.summary(model)\n",
    "        elif len(group_vars) == 3:\n",
    "            formula =Formula(y_var + ' ~ ' + x_var + ' + (1|' + group_vars[0] + ' ' + group_vars[1] + ' ' + group_vars[2]+ ')', \n",
    "                             environment = env)\n",
    "            model = lmerTest.lmer(formula)\n",
    "            return r.summary(model)\n",
    "    "
   ]
  },
  {
   "cell_type": "code",
   "execution_count": 5,
   "metadata": {
    "collapsed": true
   },
   "outputs": [],
   "source": [
    "#Just playing with the 5 weighted day variable\n",
    "pandas2ri.activate()\n",
    "rec_weight_df5 = pd.read_csv('final_race_df_5daysweighted.csv')\n",
    "wkout_weight_df5 = pd.read_csv('workout_final_race_df_5daysweighted.csv')\n",
    "weight_df5 = pd.merge(rec_weight_df5, wkout_weight_df5, how='left')\n",
    "r_weightdf5 = pandas2ri.py2ri(weight_df5)\n",
    "reg_test=r_weightdf5"
   ]
  },
  {
   "cell_type": "markdown",
   "metadata": {},
   "source": [
    "#Trying a Stepwise Model with all variables"
   ]
  },
  {
   "cell_type": "markdown",
   "metadata": {},
   "source": [
    "However, this was leading to errors"
   ]
  },
  {
   "cell_type": "code",
   "execution_count": 43,
   "metadata": {
    "collapsed": false
   },
   "outputs": [
    {
     "ename": "RRuntimeError",
     "evalue": "Error in solve.default(xtx[inds, inds]) : \n  system is computationally singular: reciprocal condition number = 5.51812e-19\n",
     "output_type": "error",
     "traceback": [
      "\u001b[1;31m---------------------------------------------------------------------------\u001b[0m",
      "\u001b[1;31mRRuntimeError\u001b[0m                             Traceback (most recent call last)",
      "\u001b[1;32m<ipython-input-43-287aad5b6d5e>\u001b[0m in \u001b[0;36m<module>\u001b[1;34m()\u001b[0m\n\u001b[0;32m     12\u001b[0m \u001b[0mformula\u001b[0m \u001b[1;33m=\u001b[0m \u001b[0mFormula\u001b[0m\u001b[1;33m(\u001b[0m\u001b[1;34m'pace_per_k'\u001b[0m \u001b[1;33m+\u001b[0m \u001b[1;34m' ~ '\u001b[0m \u001b[1;33m+\u001b[0m \u001b[0mx_string\u001b[0m \u001b[1;33m+\u001b[0m \u001b[1;34m' + (1|user_id)'\u001b[0m\u001b[1;33m,\u001b[0m \u001b[0menvironment\u001b[0m \u001b[1;33m=\u001b[0m \u001b[0menv\u001b[0m\u001b[1;33m)\u001b[0m\u001b[1;33m\u001b[0m\u001b[0m\n\u001b[0;32m     13\u001b[0m \u001b[0mfit\u001b[0m \u001b[1;33m=\u001b[0m \u001b[0mlmerTest\u001b[0m\u001b[1;33m.\u001b[0m\u001b[0mlmer\u001b[0m\u001b[1;33m(\u001b[0m\u001b[0mformula\u001b[0m\u001b[1;33m)\u001b[0m\u001b[1;33m\u001b[0m\u001b[0m\n\u001b[1;32m---> 14\u001b[1;33m \u001b[0mstepwise_model\u001b[0m \u001b[1;33m=\u001b[0m \u001b[0mr\u001b[0m\u001b[1;33m.\u001b[0m\u001b[0mstep\u001b[0m\u001b[1;33m(\u001b[0m\u001b[0mfit\u001b[0m\u001b[1;33m,\u001b[0m \u001b[0mdirection\u001b[0m\u001b[1;33m=\u001b[0m\u001b[1;34m'both'\u001b[0m\u001b[1;33m)\u001b[0m\u001b[1;33m\u001b[0m\u001b[0m\n\u001b[0m",
      "\u001b[1;32mC:\\Users\\BUCKBEAK\\Anaconda\\lib\\site-packages\\rpy2\\robjects\\functions.pyc\u001b[0m in \u001b[0;36m__call__\u001b[1;34m(self, *args, **kwargs)\u001b[0m\n\u001b[0;32m    176\u001b[0m                 \u001b[0mv\u001b[0m \u001b[1;33m=\u001b[0m \u001b[0mkwargs\u001b[0m\u001b[1;33m.\u001b[0m\u001b[0mpop\u001b[0m\u001b[1;33m(\u001b[0m\u001b[0mk\u001b[0m\u001b[1;33m)\u001b[0m\u001b[1;33m\u001b[0m\u001b[0m\n\u001b[0;32m    177\u001b[0m                 \u001b[0mkwargs\u001b[0m\u001b[1;33m[\u001b[0m\u001b[0mr_k\u001b[0m\u001b[1;33m]\u001b[0m \u001b[1;33m=\u001b[0m \u001b[0mv\u001b[0m\u001b[1;33m\u001b[0m\u001b[0m\n\u001b[1;32m--> 178\u001b[1;33m         \u001b[1;32mreturn\u001b[0m \u001b[0msuper\u001b[0m\u001b[1;33m(\u001b[0m\u001b[0mSignatureTranslatedFunction\u001b[0m\u001b[1;33m,\u001b[0m \u001b[0mself\u001b[0m\u001b[1;33m)\u001b[0m\u001b[1;33m.\u001b[0m\u001b[0m__call__\u001b[0m\u001b[1;33m(\u001b[0m\u001b[1;33m*\u001b[0m\u001b[0margs\u001b[0m\u001b[1;33m,\u001b[0m \u001b[1;33m**\u001b[0m\u001b[0mkwargs\u001b[0m\u001b[1;33m)\u001b[0m\u001b[1;33m\u001b[0m\u001b[0m\n\u001b[0m\u001b[0;32m    179\u001b[0m \u001b[1;33m\u001b[0m\u001b[0m\n\u001b[0;32m    180\u001b[0m \u001b[0mpattern_link\u001b[0m \u001b[1;33m=\u001b[0m \u001b[0mre\u001b[0m\u001b[1;33m.\u001b[0m\u001b[0mcompile\u001b[0m\u001b[1;33m(\u001b[0m\u001b[1;34mr'\\\\link\\{(.+?)\\}'\u001b[0m\u001b[1;33m)\u001b[0m\u001b[1;33m\u001b[0m\u001b[0m\n",
      "\u001b[1;32mC:\\Users\\BUCKBEAK\\Anaconda\\lib\\site-packages\\rpy2\\robjects\\functions.pyc\u001b[0m in \u001b[0;36m__call__\u001b[1;34m(self, *args, **kwargs)\u001b[0m\n\u001b[0;32m    104\u001b[0m         \u001b[1;32mfor\u001b[0m \u001b[0mk\u001b[0m\u001b[1;33m,\u001b[0m \u001b[0mv\u001b[0m \u001b[1;32min\u001b[0m \u001b[0mkwargs\u001b[0m\u001b[1;33m.\u001b[0m\u001b[0mitems\u001b[0m\u001b[1;33m(\u001b[0m\u001b[1;33m)\u001b[0m\u001b[1;33m:\u001b[0m\u001b[1;33m\u001b[0m\u001b[0m\n\u001b[0;32m    105\u001b[0m             \u001b[0mnew_kwargs\u001b[0m\u001b[1;33m[\u001b[0m\u001b[0mk\u001b[0m\u001b[1;33m]\u001b[0m \u001b[1;33m=\u001b[0m \u001b[0mconversion\u001b[0m\u001b[1;33m.\u001b[0m\u001b[0mpy2ri\u001b[0m\u001b[1;33m(\u001b[0m\u001b[0mv\u001b[0m\u001b[1;33m)\u001b[0m\u001b[1;33m\u001b[0m\u001b[0m\n\u001b[1;32m--> 106\u001b[1;33m         \u001b[0mres\u001b[0m \u001b[1;33m=\u001b[0m \u001b[0msuper\u001b[0m\u001b[1;33m(\u001b[0m\u001b[0mFunction\u001b[0m\u001b[1;33m,\u001b[0m \u001b[0mself\u001b[0m\u001b[1;33m)\u001b[0m\u001b[1;33m.\u001b[0m\u001b[0m__call__\u001b[0m\u001b[1;33m(\u001b[0m\u001b[1;33m*\u001b[0m\u001b[0mnew_args\u001b[0m\u001b[1;33m,\u001b[0m \u001b[1;33m**\u001b[0m\u001b[0mnew_kwargs\u001b[0m\u001b[1;33m)\u001b[0m\u001b[1;33m\u001b[0m\u001b[0m\n\u001b[0m\u001b[0;32m    107\u001b[0m         \u001b[0mres\u001b[0m \u001b[1;33m=\u001b[0m \u001b[0mconversion\u001b[0m\u001b[1;33m.\u001b[0m\u001b[0mri2ro\u001b[0m\u001b[1;33m(\u001b[0m\u001b[0mres\u001b[0m\u001b[1;33m)\u001b[0m\u001b[1;33m\u001b[0m\u001b[0m\n\u001b[0;32m    108\u001b[0m         \u001b[1;32mreturn\u001b[0m \u001b[0mres\u001b[0m\u001b[1;33m\u001b[0m\u001b[0m\n",
      "\u001b[1;31mRRuntimeError\u001b[0m: Error in solve.default(xtx[inds, inds]) : \n  system is computationally singular: reciprocal condition number = 5.51812e-19\n"
     ]
    }
   ],
   "source": [
    "env=Environment()\n",
    "xlist = ['hrv_rmssd', 'resting_heart_rate', 'light_sleep_duration', 'rem_sleep_duration', 'slow_wave_sleep_duration',\n",
    "'cycles_count', 'latency', 'z1', 'z2', 'z3', 'z4', 'z5']\n",
    "for varname in r.colnames(reg_test):\n",
    "    env[varname] = reg_test.rx2(varname)\n",
    "x_string= ' + '\n",
    "for i in range(0, len(xlist)):\n",
    "    if i != (len(xlist)-1):\n",
    "        x_string+= xlist[i] + ' + '\n",
    "    else:\n",
    "        x_string+= xlist[i] + ' '\n",
    "formula = Formula('pace_per_k' + ' ~ ' + x_string + ' + (1|user_id)', environment = env)\n",
    "fit = lmerTest.lmer(formula)\n",
    "stepwise_model = r.step(fit, direction='both')"
   ]
  },
  {
   "cell_type": "code",
   "execution_count": null,
   "metadata": {
    "collapsed": true
   },
   "outputs": [],
   "source": []
  },
  {
   "cell_type": "code",
   "execution_count": null,
   "metadata": {
    "collapsed": true
   },
   "outputs": [],
   "source": []
  },
  {
   "cell_type": "code",
   "execution_count": null,
   "metadata": {
    "collapsed": true
   },
   "outputs": [],
   "source": []
  },
  {
   "cell_type": "code",
   "execution_count": null,
   "metadata": {
    "collapsed": true
   },
   "outputs": [],
   "source": []
  },
  {
   "cell_type": "code",
   "execution_count": 20,
   "metadata": {
    "collapsed": false
   },
   "outputs": [],
   "source": [
    "xlist = ['hrv_rmssd', 'resting_heart_rate', 'light_sleep_duration', 'rem_sleep_duration', 'sleep_duration', 'slow_wave_sleep_duration',\n",
    "'cycles_count', 'time_in_bed', 'latency', 'z1', 'z2', 'z3', 'z4', 'z5']"
   ]
  },
  {
   "cell_type": "code",
   "execution_count": 25,
   "metadata": {
    "collapsed": true
   },
   "outputs": [],
   "source": [
    "def stepwise_model(dftouse, env, y_var, x_vars, group_vars=None):\n",
    "    if group_vars==None:\n",
    "        print 'Not a mixed effects model!'\n",
    "        return 'Not a mixed effects model!'\n",
    "    env=env\n",
    "    for varname in r.colnames(dftouse):\n",
    "        env[varname] = dftouse.rx2(varname)\n",
    "    \n",
    "    x_string= ' + '\n",
    "    for i in range(0, len(xlist)):\n",
    "        if i != (len(xlist)-1):\n",
    "            x_string+= xlist[i] + ' + '\n",
    "        else:\n",
    "            x_string+= xlist[i] + ' '\n",
    "    \n",
    "    if type(group_vars) == str:\n",
    "        formula = Formula(y_var + ' ~ ' + x_string + ' + (1|' + group_vars + ')', environment = env)\n",
    "        fit = lmerTest.lmer(formula)\n",
    "        return fit\n",
    "    \n",
    "    elif type(group_vars)== tuple or type(group_vars)== list:\n",
    "        if len(group_vars) == 2:\n",
    "            formula = Formula(y_var + ' ~ ' + x_string + ' + (1|' + group_vars[0] + ') + (1|' + group_vars[1] + ')', environment=env)\n",
    "            fit = lmerTest.lmer(formula)\n",
    "            return fit\n",
    "        \n",
    "        elif len(group_vars) == 3:\n",
    "            formula =Formula(y_var + ' ~ ' + x_string + ' + (1|' + group_vars[0] + ' ' + group_vars[1] + ' ' + group_vars[2]+ ')', \n",
    "                             environment = env)\n",
    "            fit = lmerTest.lmer(formula)\n",
    "            return fit"
   ]
  },
  {
   "cell_type": "code",
   "execution_count": 26,
   "metadata": {
    "collapsed": false
   },
   "outputs": [
    {
     "ename": "RRuntimeError",
     "evalue": "Error: Dropping columns failed to produce full column rank design matrix\n",
     "output_type": "error",
     "traceback": [
      "\u001b[1;31m---------------------------------------------------------------------------\u001b[0m",
      "\u001b[1;31mRRuntimeError\u001b[0m                             Traceback (most recent call last)",
      "\u001b[1;32m<ipython-input-26-ab9032918ec5>\u001b[0m in \u001b[0;36m<module>\u001b[1;34m()\u001b[0m\n\u001b[0;32m      1\u001b[0m \u001b[0menv\u001b[0m\u001b[1;33m=\u001b[0m\u001b[0mEnvironment\u001b[0m\u001b[1;33m(\u001b[0m\u001b[1;33m)\u001b[0m\u001b[1;33m\u001b[0m\u001b[0m\n\u001b[1;32m----> 2\u001b[1;33m \u001b[0mfit\u001b[0m \u001b[1;33m=\u001b[0m \u001b[0mstepwise_model\u001b[0m\u001b[1;33m(\u001b[0m\u001b[0mreg_test\u001b[0m\u001b[1;33m,\u001b[0m \u001b[0menv\u001b[0m\u001b[1;33m,\u001b[0m \u001b[1;34m'pace_per_k'\u001b[0m\u001b[1;33m,\u001b[0m \u001b[0mxlist\u001b[0m\u001b[1;33m,\u001b[0m \u001b[0mgroup_vars\u001b[0m\u001b[1;33m=\u001b[0m\u001b[1;34m'user_id'\u001b[0m\u001b[1;33m)\u001b[0m\u001b[1;33m\u001b[0m\u001b[0m\n\u001b[0m",
      "\u001b[1;32m<ipython-input-25-333b31c74ebf>\u001b[0m in \u001b[0;36mstepwise_model\u001b[1;34m(dftouse, env, y_var, x_vars, group_vars)\u001b[0m\n\u001b[0;32m     16\u001b[0m     \u001b[1;32mif\u001b[0m \u001b[0mtype\u001b[0m\u001b[1;33m(\u001b[0m\u001b[0mgroup_vars\u001b[0m\u001b[1;33m)\u001b[0m \u001b[1;33m==\u001b[0m \u001b[0mstr\u001b[0m\u001b[1;33m:\u001b[0m\u001b[1;33m\u001b[0m\u001b[0m\n\u001b[0;32m     17\u001b[0m         \u001b[0mformula\u001b[0m \u001b[1;33m=\u001b[0m \u001b[0mFormula\u001b[0m\u001b[1;33m(\u001b[0m\u001b[0my_var\u001b[0m \u001b[1;33m+\u001b[0m \u001b[1;34m' ~ '\u001b[0m \u001b[1;33m+\u001b[0m \u001b[0mx_string\u001b[0m \u001b[1;33m+\u001b[0m \u001b[1;34m' + (1|'\u001b[0m \u001b[1;33m+\u001b[0m \u001b[0mgroup_vars\u001b[0m \u001b[1;33m+\u001b[0m \u001b[1;34m')'\u001b[0m\u001b[1;33m,\u001b[0m \u001b[0menvironment\u001b[0m \u001b[1;33m=\u001b[0m \u001b[0menv\u001b[0m\u001b[1;33m)\u001b[0m\u001b[1;33m\u001b[0m\u001b[0m\n\u001b[1;32m---> 18\u001b[1;33m         \u001b[0mfit\u001b[0m \u001b[1;33m=\u001b[0m \u001b[0mlmerTest\u001b[0m\u001b[1;33m.\u001b[0m\u001b[0mlmer\u001b[0m\u001b[1;33m(\u001b[0m\u001b[0mformula\u001b[0m\u001b[1;33m)\u001b[0m\u001b[1;33m\u001b[0m\u001b[0m\n\u001b[0m\u001b[0;32m     19\u001b[0m         \u001b[1;32mreturn\u001b[0m \u001b[0mfit\u001b[0m\u001b[1;33m\u001b[0m\u001b[0m\n\u001b[0;32m     20\u001b[0m \u001b[1;33m\u001b[0m\u001b[0m\n",
      "\u001b[1;32mC:\\Users\\BUCKBEAK\\Anaconda\\lib\\site-packages\\rpy2\\robjects\\functions.pyc\u001b[0m in \u001b[0;36m__call__\u001b[1;34m(self, *args, **kwargs)\u001b[0m\n\u001b[0;32m    176\u001b[0m                 \u001b[0mv\u001b[0m \u001b[1;33m=\u001b[0m \u001b[0mkwargs\u001b[0m\u001b[1;33m.\u001b[0m\u001b[0mpop\u001b[0m\u001b[1;33m(\u001b[0m\u001b[0mk\u001b[0m\u001b[1;33m)\u001b[0m\u001b[1;33m\u001b[0m\u001b[0m\n\u001b[0;32m    177\u001b[0m                 \u001b[0mkwargs\u001b[0m\u001b[1;33m[\u001b[0m\u001b[0mr_k\u001b[0m\u001b[1;33m]\u001b[0m \u001b[1;33m=\u001b[0m \u001b[0mv\u001b[0m\u001b[1;33m\u001b[0m\u001b[0m\n\u001b[1;32m--> 178\u001b[1;33m         \u001b[1;32mreturn\u001b[0m \u001b[0msuper\u001b[0m\u001b[1;33m(\u001b[0m\u001b[0mSignatureTranslatedFunction\u001b[0m\u001b[1;33m,\u001b[0m \u001b[0mself\u001b[0m\u001b[1;33m)\u001b[0m\u001b[1;33m.\u001b[0m\u001b[0m__call__\u001b[0m\u001b[1;33m(\u001b[0m\u001b[1;33m*\u001b[0m\u001b[0margs\u001b[0m\u001b[1;33m,\u001b[0m \u001b[1;33m**\u001b[0m\u001b[0mkwargs\u001b[0m\u001b[1;33m)\u001b[0m\u001b[1;33m\u001b[0m\u001b[0m\n\u001b[0m\u001b[0;32m    179\u001b[0m \u001b[1;33m\u001b[0m\u001b[0m\n\u001b[0;32m    180\u001b[0m \u001b[0mpattern_link\u001b[0m \u001b[1;33m=\u001b[0m \u001b[0mre\u001b[0m\u001b[1;33m.\u001b[0m\u001b[0mcompile\u001b[0m\u001b[1;33m(\u001b[0m\u001b[1;34mr'\\\\link\\{(.+?)\\}'\u001b[0m\u001b[1;33m)\u001b[0m\u001b[1;33m\u001b[0m\u001b[0m\n",
      "\u001b[1;32mC:\\Users\\BUCKBEAK\\Anaconda\\lib\\site-packages\\rpy2\\robjects\\functions.pyc\u001b[0m in \u001b[0;36m__call__\u001b[1;34m(self, *args, **kwargs)\u001b[0m\n\u001b[0;32m    104\u001b[0m         \u001b[1;32mfor\u001b[0m \u001b[0mk\u001b[0m\u001b[1;33m,\u001b[0m \u001b[0mv\u001b[0m \u001b[1;32min\u001b[0m \u001b[0mkwargs\u001b[0m\u001b[1;33m.\u001b[0m\u001b[0mitems\u001b[0m\u001b[1;33m(\u001b[0m\u001b[1;33m)\u001b[0m\u001b[1;33m:\u001b[0m\u001b[1;33m\u001b[0m\u001b[0m\n\u001b[0;32m    105\u001b[0m             \u001b[0mnew_kwargs\u001b[0m\u001b[1;33m[\u001b[0m\u001b[0mk\u001b[0m\u001b[1;33m]\u001b[0m \u001b[1;33m=\u001b[0m \u001b[0mconversion\u001b[0m\u001b[1;33m.\u001b[0m\u001b[0mpy2ri\u001b[0m\u001b[1;33m(\u001b[0m\u001b[0mv\u001b[0m\u001b[1;33m)\u001b[0m\u001b[1;33m\u001b[0m\u001b[0m\n\u001b[1;32m--> 106\u001b[1;33m         \u001b[0mres\u001b[0m \u001b[1;33m=\u001b[0m \u001b[0msuper\u001b[0m\u001b[1;33m(\u001b[0m\u001b[0mFunction\u001b[0m\u001b[1;33m,\u001b[0m \u001b[0mself\u001b[0m\u001b[1;33m)\u001b[0m\u001b[1;33m.\u001b[0m\u001b[0m__call__\u001b[0m\u001b[1;33m(\u001b[0m\u001b[1;33m*\u001b[0m\u001b[0mnew_args\u001b[0m\u001b[1;33m,\u001b[0m \u001b[1;33m**\u001b[0m\u001b[0mnew_kwargs\u001b[0m\u001b[1;33m)\u001b[0m\u001b[1;33m\u001b[0m\u001b[0m\n\u001b[0m\u001b[0;32m    107\u001b[0m         \u001b[0mres\u001b[0m \u001b[1;33m=\u001b[0m \u001b[0mconversion\u001b[0m\u001b[1;33m.\u001b[0m\u001b[0mri2ro\u001b[0m\u001b[1;33m(\u001b[0m\u001b[0mres\u001b[0m\u001b[1;33m)\u001b[0m\u001b[1;33m\u001b[0m\u001b[0m\n\u001b[0;32m    108\u001b[0m         \u001b[1;32mreturn\u001b[0m \u001b[0mres\u001b[0m\u001b[1;33m\u001b[0m\u001b[0m\n",
      "\u001b[1;31mRRuntimeError\u001b[0m: Error: Dropping columns failed to produce full column rank design matrix\n"
     ]
    }
   ],
   "source": [
    "env=Environment()\n",
    "fit = stepwise_model(reg_test, env, 'pace_per_k', xlist, group_vars='user_id')"
   ]
  },
  {
   "cell_type": "code",
   "execution_count": null,
   "metadata": {
    "collapsed": true
   },
   "outputs": [],
   "source": []
  },
  {
   "cell_type": "code",
   "execution_count": null,
   "metadata": {
    "collapsed": true
   },
   "outputs": [],
   "source": []
  },
  {
   "cell_type": "code",
   "execution_count": null,
   "metadata": {
    "collapsed": true
   },
   "outputs": [],
   "source": []
  },
  {
   "cell_type": "code",
   "execution_count": null,
   "metadata": {
    "collapsed": true
   },
   "outputs": [],
   "source": []
  },
  {
   "cell_type": "code",
   "execution_count": null,
   "metadata": {
    "collapsed": true
   },
   "outputs": [],
   "source": []
  }
 ],
 "metadata": {
  "kernelspec": {
   "display_name": "Python 2",
   "language": "python",
   "name": "python2"
  },
  "language_info": {
   "codemirror_mode": {
    "name": "ipython",
    "version": 2
   },
   "file_extension": ".py",
   "mimetype": "text/x-python",
   "name": "python",
   "nbconvert_exporter": "python",
   "pygments_lexer": "ipython2",
   "version": "2.7.11"
  }
 },
 "nbformat": 4,
 "nbformat_minor": 0
}
