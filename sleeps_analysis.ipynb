{
 "cells": [
  {
   "cell_type": "code",
   "execution_count": 2,
   "metadata": {
    "collapsed": true
   },
   "outputs": [],
   "source": [
    "%matplotlib inline\n",
    "import numpy as np\n",
    "import scipy as sp\n",
    "import matplotlib as mpl\n",
    "import matplotlib.cm as cm\n",
    "import matplotlib.pyplot as plt\n",
    "import pandas as pd\n",
    "pd.set_option('display.width', 500)\n",
    "pd.set_option('display.max_columns', 100)\n",
    "pd.set_option('display.notebook_repr_html', True)\n",
    "import seaborn as sns\n",
    "sns.set_style(\"whitegrid\")\n",
    "sns.set_context(\"poster\")\n",
    "import time"
   ]
  },
  {
   "cell_type": "code",
   "execution_count": 17,
   "metadata": {
    "collapsed": false
   },
   "outputs": [],
   "source": [
    "sleeps = pd.read_csv('sleeps.csv')\n",
    "sleeps = sleeps[sleeps.user_id!=2509]"
   ]
  },
  {
   "cell_type": "code",
   "execution_count": 18,
   "metadata": {
    "collapsed": true
   },
   "outputs": [],
   "source": [
    "def epoch_end_convert(df):\n",
    "    '''\n",
    "    takes dataframe and converts date column to epoch milliseconds\n",
    "    inputs:\n",
    "        df = dataframe name\n",
    "    '''\n",
    "    try:\n",
    "        return (int(time.mktime(time.strptime(df['end'], '%Y-%m-%d %H:%M:%S'))) - 14400)*1000\n",
    "    except:\n",
    "        #handles activities that have fractions of a second included\n",
    "        return (int(time.mktime(time.strptime(df['end'][:19], '%Y-%m-%d %H:%M:%S'))) - 14400)*1000"
   ]
  },
  {
   "cell_type": "code",
   "execution_count": 22,
   "metadata": {
    "collapsed": false
   },
   "outputs": [],
   "source": [
    "sleeps['end_epoch'] = sleeps.apply(epoch_end_convert, axis=1)"
   ]
  },
  {
   "cell_type": "code",
   "execution_count": 27,
   "metadata": {
    "collapsed": false
   },
   "outputs": [],
   "source": [
    "#drop if HRV = NaN\n",
    "sleeps_only = sleeps[np.isnan(sleeps.hrv_rmssd)==False]"
   ]
  },
  {
   "cell_type": "code",
   "execution_count": 29,
   "metadata": {
    "collapsed": false
   },
   "outputs": [
    {
     "data": {
      "text/html": [
       "<div>\n",
       "<table border=\"1\" class=\"dataframe\">\n",
       "  <thead>\n",
       "    <tr style=\"text-align: right;\">\n",
       "      <th></th>\n",
       "      <th>user_id</th>\n",
       "      <th>start</th>\n",
       "      <th>end</th>\n",
       "      <th>score</th>\n",
       "      <th>time_in_bed</th>\n",
       "      <th>latency</th>\n",
       "      <th>disturbances</th>\n",
       "      <th>wake_duration</th>\n",
       "      <th>light_sleep_duration</th>\n",
       "      <th>slow_wave_sleep_duration</th>\n",
       "      <th>rem_sleep_duration</th>\n",
       "      <th>cycles_count</th>\n",
       "      <th>debt_post</th>\n",
       "      <th>is_nap</th>\n",
       "      <th>recovery_score</th>\n",
       "      <th>resting_heart_rate</th>\n",
       "      <th>hrv_rmssd</th>\n",
       "      <th>end_epoch</th>\n",
       "    </tr>\n",
       "  </thead>\n",
       "  <tbody>\n",
       "    <tr>\n",
       "      <th>0</th>\n",
       "      <td>828</td>\n",
       "      <td>2015-09-15 02:42:00</td>\n",
       "      <td>2015-09-15 12:09:00</td>\n",
       "      <td>82</td>\n",
       "      <td>34020000</td>\n",
       "      <td>2100132</td>\n",
       "      <td>27</td>\n",
       "      <td>6870000</td>\n",
       "      <td>22230000</td>\n",
       "      <td>3600000</td>\n",
       "      <td>1320000</td>\n",
       "      <td>2</td>\n",
       "      <td>4266209.55</td>\n",
       "      <td>f</td>\n",
       "      <td>63</td>\n",
       "      <td>49</td>\n",
       "      <td>0.064647</td>\n",
       "      <td>1442318940000</td>\n",
       "    </tr>\n",
       "    <tr>\n",
       "      <th>1</th>\n",
       "      <td>828</td>\n",
       "      <td>2015-09-16 02:03:00</td>\n",
       "      <td>2015-09-16 12:06:00</td>\n",
       "      <td>87</td>\n",
       "      <td>36180000</td>\n",
       "      <td>2790134</td>\n",
       "      <td>25</td>\n",
       "      <td>6630000</td>\n",
       "      <td>22860000</td>\n",
       "      <td>3210000</td>\n",
       "      <td>3480000</td>\n",
       "      <td>3</td>\n",
       "      <td>2436815.25</td>\n",
       "      <td>f</td>\n",
       "      <td>74</td>\n",
       "      <td>45</td>\n",
       "      <td>0.075670</td>\n",
       "      <td>1442405160000</td>\n",
       "    </tr>\n",
       "    <tr>\n",
       "      <th>2</th>\n",
       "      <td>828</td>\n",
       "      <td>2015-09-17 00:36:00</td>\n",
       "      <td>2015-09-17 12:15:00</td>\n",
       "      <td>97</td>\n",
       "      <td>41940000</td>\n",
       "      <td>7800470</td>\n",
       "      <td>24</td>\n",
       "      <td>10410000</td>\n",
       "      <td>25680000</td>\n",
       "      <td>3240000</td>\n",
       "      <td>2580000</td>\n",
       "      <td>4</td>\n",
       "      <td>513169.69</td>\n",
       "      <td>f</td>\n",
       "      <td>68</td>\n",
       "      <td>44</td>\n",
       "      <td>0.036925</td>\n",
       "      <td>1442492100000</td>\n",
       "    </tr>\n",
       "    <tr>\n",
       "      <th>3</th>\n",
       "      <td>828</td>\n",
       "      <td>2015-09-18 02:38:18.552</td>\n",
       "      <td>2015-09-18 12:24:08.679</td>\n",
       "      <td>94</td>\n",
       "      <td>35150127</td>\n",
       "      <td>1410042</td>\n",
       "      <td>32</td>\n",
       "      <td>3960000</td>\n",
       "      <td>24810000</td>\n",
       "      <td>2160000</td>\n",
       "      <td>4230000</td>\n",
       "      <td>7</td>\n",
       "      <td>1425316.75</td>\n",
       "      <td>f</td>\n",
       "      <td>90</td>\n",
       "      <td>53</td>\n",
       "      <td>0.098787</td>\n",
       "      <td>1442579048000</td>\n",
       "    </tr>\n",
       "    <tr>\n",
       "      <th>5</th>\n",
       "      <td>828</td>\n",
       "      <td>2015-09-20 03:38:43.029</td>\n",
       "      <td>2015-09-20 11:44:39.378</td>\n",
       "      <td>70</td>\n",
       "      <td>29156349</td>\n",
       "      <td>1560075</td>\n",
       "      <td>18</td>\n",
       "      <td>4260000</td>\n",
       "      <td>18090000</td>\n",
       "      <td>2910000</td>\n",
       "      <td>3900000</td>\n",
       "      <td>6</td>\n",
       "      <td>7668000.00</td>\n",
       "      <td>f</td>\n",
       "      <td>42</td>\n",
       "      <td>43</td>\n",
       "      <td>0.050816</td>\n",
       "      <td>1442749479000</td>\n",
       "    </tr>\n",
       "  </tbody>\n",
       "</table>\n",
       "</div>"
      ],
      "text/plain": [
       "   user_id                    start                      end  score  time_in_bed  latency  disturbances  wake_duration  light_sleep_duration  slow_wave_sleep_duration  rem_sleep_duration  cycles_count   debt_post is_nap  recovery_score  resting_heart_rate  hrv_rmssd      end_epoch\n",
       "0      828      2015-09-15 02:42:00      2015-09-15 12:09:00     82     34020000  2100132            27        6870000              22230000                   3600000             1320000             2  4266209.55      f              63                  49   0.064647  1442318940000\n",
       "1      828      2015-09-16 02:03:00      2015-09-16 12:06:00     87     36180000  2790134            25        6630000              22860000                   3210000             3480000             3  2436815.25      f              74                  45   0.075670  1442405160000\n",
       "2      828      2015-09-17 00:36:00      2015-09-17 12:15:00     97     41940000  7800470            24       10410000              25680000                   3240000             2580000             4   513169.69      f              68                  44   0.036925  1442492100000\n",
       "3      828  2015-09-18 02:38:18.552  2015-09-18 12:24:08.679     94     35150127  1410042            32        3960000              24810000                   2160000             4230000             7  1425316.75      f              90                  53   0.098787  1442579048000\n",
       "5      828  2015-09-20 03:38:43.029  2015-09-20 11:44:39.378     70     29156349  1560075            18        4260000              18090000                   2910000             3900000             6  7668000.00      f              42                  43   0.050816  1442749479000"
      ]
     },
     "execution_count": 29,
     "metadata": {},
     "output_type": "execute_result"
    }
   ],
   "source": [
    "sleeps_only.head()"
   ]
  },
  {
   "cell_type": "markdown",
   "metadata": {},
   "source": [
    "#Adding In Race Periods"
   ]
  },
  {
   "cell_type": "code",
   "execution_count": 30,
   "metadata": {
    "collapsed": true
   },
   "outputs": [],
   "source": [
    "date_markers = pd.read_csv('epoch_dates.csv')"
   ]
  },
  {
   "cell_type": "code",
   "execution_count": 31,
   "metadata": {
    "collapsed": false
   },
   "outputs": [
    {
     "data": {
      "text/html": [
       "<div>\n",
       "<table border=\"1\" class=\"dataframe\">\n",
       "  <thead>\n",
       "    <tr style=\"text-align: right;\">\n",
       "      <th></th>\n",
       "      <th>ET_Date</th>\n",
       "      <th>date_start_epoch</th>\n",
       "      <th>race_period</th>\n",
       "      <th>bike_period</th>\n",
       "      <th>race_period_start</th>\n",
       "      <th>race_period_end</th>\n",
       "      <th>bike_period_start</th>\n",
       "      <th>bike_period_end</th>\n",
       "    </tr>\n",
       "  </thead>\n",
       "  <tbody>\n",
       "    <tr>\n",
       "      <th>0</th>\n",
       "      <td>9/15/2015 0:00</td>\n",
       "      <td>1442289600000</td>\n",
       "      <td>1</td>\n",
       "      <td>1</td>\n",
       "      <td>1</td>\n",
       "      <td>0</td>\n",
       "      <td>1</td>\n",
       "      <td>0</td>\n",
       "    </tr>\n",
       "    <tr>\n",
       "      <th>1</th>\n",
       "      <td>9/16/2015 0:00</td>\n",
       "      <td>1442376000000</td>\n",
       "      <td>1</td>\n",
       "      <td>1</td>\n",
       "      <td>0</td>\n",
       "      <td>0</td>\n",
       "      <td>0</td>\n",
       "      <td>0</td>\n",
       "    </tr>\n",
       "    <tr>\n",
       "      <th>2</th>\n",
       "      <td>9/17/2015 0:00</td>\n",
       "      <td>1442462400000</td>\n",
       "      <td>1</td>\n",
       "      <td>1</td>\n",
       "      <td>0</td>\n",
       "      <td>0</td>\n",
       "      <td>0</td>\n",
       "      <td>0</td>\n",
       "    </tr>\n",
       "    <tr>\n",
       "      <th>3</th>\n",
       "      <td>9/18/2015 0:00</td>\n",
       "      <td>1442548800000</td>\n",
       "      <td>1</td>\n",
       "      <td>1</td>\n",
       "      <td>0</td>\n",
       "      <td>0</td>\n",
       "      <td>0</td>\n",
       "      <td>0</td>\n",
       "    </tr>\n",
       "    <tr>\n",
       "      <th>4</th>\n",
       "      <td>9/19/2015 0:00</td>\n",
       "      <td>1442635200000</td>\n",
       "      <td>1</td>\n",
       "      <td>1</td>\n",
       "      <td>0</td>\n",
       "      <td>0</td>\n",
       "      <td>0</td>\n",
       "      <td>0</td>\n",
       "    </tr>\n",
       "  </tbody>\n",
       "</table>\n",
       "</div>"
      ],
      "text/plain": [
       "          ET_Date  date_start_epoch  race_period  bike_period  race_period_start  race_period_end  bike_period_start  bike_period_end\n",
       "0  9/15/2015 0:00     1442289600000            1            1                  1                0                  1                0\n",
       "1  9/16/2015 0:00     1442376000000            1            1                  0                0                  0                0\n",
       "2  9/17/2015 0:00     1442462400000            1            1                  0                0                  0                0\n",
       "3  9/18/2015 0:00     1442548800000            1            1                  0                0                  0                0\n",
       "4  9/19/2015 0:00     1442635200000            1            1                  0                0                  0                0"
      ]
     },
     "execution_count": 31,
     "metadata": {},
     "output_type": "execute_result"
    }
   ],
   "source": [
    "date_markers.head()"
   ]
  },
  {
   "cell_type": "code",
   "execution_count": 32,
   "metadata": {
    "collapsed": true
   },
   "outputs": [],
   "source": [
    "date_markers = date_markers[date_markers['race_period_start'] > 0].reset_index()\n",
    "#dictionary of race period to start epoch\n",
    "race_start_dict = {}\n",
    "for i in range(0, len(date_markers)):\n",
    "    race_start_dict[date_markers.values[i][3]] = date_markers.values[i][2]\n",
    "\n",
    "#date_markers = date_markers[date_markers['bike_period_start'] > 0].reset_index()\n",
    "#bike_start_dict = {}\n",
    "#for i in range(0, len(date_markers)):\n",
    "#    bike_start_dict[date_markers.values[i][4]] = date_markers.values[i][2]\n"
   ]
  },
  {
   "cell_type": "code",
   "execution_count": 33,
   "metadata": {
    "collapsed": false
   },
   "outputs": [
    {
     "data": {
      "text/plain": [
       "{1L: 1442289600000L,\n",
       " 2L: 1443240000000L,\n",
       " 3L: 1445054400000L,\n",
       " 4L: 1446264000000L,\n",
       " 5L: 1447473600000L}"
      ]
     },
     "execution_count": 33,
     "metadata": {},
     "output_type": "execute_result"
    }
   ],
   "source": [
    "race_start_dict"
   ]
  },
  {
   "cell_type": "code",
   "execution_count": 34,
   "metadata": {
    "collapsed": true
   },
   "outputs": [],
   "source": [
    "def add_race(df):\n",
    "    if (df.end_epoch >= race_start_dict[1]) and (df.end_epoch < race_start_dict[2]):\n",
    "        return 1\n",
    "    elif (df.end_epoch >= race_start_dict[2]) and (df.end_epoch < race_start_dict[3]):\n",
    "        return 2\n",
    "    elif (df.end_epoch >= race_start_dict[3]) and (df.end_epoch < race_start_dict[4]):\n",
    "        return 3\n",
    "    elif (df.end_epoch >= race_start_dict[4]) and (df.end_epoch < race_start_dict[5]):\n",
    "        return 4\n",
    "    elif (df.end_epoch >= race_start_dict[5]) and (df.end_epoch < 1448164800000):\n",
    "        return 5\n",
    "    else:\n",
    "        return 0\n"
   ]
  },
  {
   "cell_type": "code",
   "execution_count": 35,
   "metadata": {
    "collapsed": true
   },
   "outputs": [],
   "source": [
    "def add_bike(df):\n",
    "    if (df.end_epoch >= bike_start_dict[1]) and (df.end_epoch < bike_start_dict[2]):\n",
    "        return 1\n",
    "    elif (df.end_epoch >= bike_start_dict[2]) and (df.end_epoch < bike_start_dict[3]):\n",
    "        return 2\n",
    "    elif (df.end_epoch >= race_start_dict[3]) and (df.end_epoch < bike_start_dict[4]):\n",
    "        return 3\n",
    "    elif (df.end_epoch >= bike_start_dict[4]) and (df.end_epoch < bike_start_dict[5]):\n",
    "        return 4\n",
    "    elif (df.end_epoch >= bike_start_dict[5]) and (df.end_epoch < bike_start_dict[6]):\n",
    "        return 5\n",
    "    elif (df.end_epoch >= bike_start_dict[6]) and (df.end_epoch < bike_start_dict[7]):\n",
    "        return 6\n",
    "    elif (df.end_epoch >= bike_start_dict[7]) and (df.end_epoch < bike_start_dict[8]):\n",
    "        return 7\n",
    "    elif (df.end_epoch >= bike_start_dict[8]) and (df.end_epoch < bike_start_dict[9]):\n",
    "        return 8\n",
    "    elif (df.end_epoch >= bike_start_dict[9]):\n",
    "        return 9"
   ]
  },
  {
   "cell_type": "code",
   "execution_count": 47,
   "metadata": {
    "collapsed": true
   },
   "outputs": [],
   "source": [
    "def add_periods(date_markers, df, buildup_days=0, version=None):\n",
    "    if version==None:\n",
    "        print \"Enter Either 'race' or 'bike'!\"\n",
    "    if version==\"race\":\n",
    "        #Collapse the data frame into only the start and end dates for each race period\n",
    "        date_markers = date_markers[date_markers['race_period_start'] > 0].reset_index()\n",
    "        #dictionary of race period to start epoch\n",
    "        race_start_dict = {}\n",
    "        for i in range(0, len(date_markers)):\n",
    "            race_start_dict[date_markers.values[i][3]] = date_markers.values[i][2]\n",
    "        #Now label each race period as 1, 2, 3, 4, or 5\n",
    "        df['race_period'] = df.apply(add_race, axis=1)\n",
    "        df['date_md']=df['end'].str[5:10]\n",
    "        df=df.sort(['user_id', 'race_period', 'end_epoch'], ascending=[True, True, True])\n",
    "    \n",
    "    return df"
   ]
  },
  {
   "cell_type": "code",
   "execution_count": 51,
   "metadata": {
    "collapsed": false
   },
   "outputs": [
    {
     "name": "stderr",
     "output_type": "stream",
     "text": [
      "C:\\Users\\BUCKBEAK\\Anaconda\\lib\\site-packages\\IPython\\kernel\\__main__.py:12: SettingWithCopyWarning: \n",
      "A value is trying to be set on a copy of a slice from a DataFrame.\n",
      "Try using .loc[row_indexer,col_indexer] = value instead\n",
      "\n",
      "See the the caveats in the documentation: http://pandas.pydata.org/pandas-docs/stable/indexing.html#indexing-view-versus-copy\n",
      "C:\\Users\\BUCKBEAK\\Anaconda\\lib\\site-packages\\IPython\\kernel\\__main__.py:13: SettingWithCopyWarning: \n",
      "A value is trying to be set on a copy of a slice from a DataFrame.\n",
      "Try using .loc[row_indexer,col_indexer] = value instead\n",
      "\n",
      "See the the caveats in the documentation: http://pandas.pydata.org/pandas-docs/stable/indexing.html#indexing-view-versus-copy\n"
     ]
    }
   ],
   "source": [
    "test = add_periods(date_markers=date_markers, df=sleeps_only, buildup_days=0, version=\"race\")\n"
   ]
  },
  {
   "cell_type": "code",
   "execution_count": 52,
   "metadata": {
    "collapsed": true
   },
   "outputs": [],
   "source": []
  },
  {
   "cell_type": "code",
   "execution_count": 55,
   "metadata": {
    "collapsed": false
   },
   "outputs": [
    {
     "data": {
      "text/html": [
       "<div>\n",
       "<table border=\"1\" class=\"dataframe\">\n",
       "  <thead>\n",
       "    <tr style=\"text-align: right;\">\n",
       "      <th></th>\n",
       "      <th>user_id</th>\n",
       "      <th>start</th>\n",
       "      <th>end</th>\n",
       "      <th>score</th>\n",
       "      <th>time_in_bed</th>\n",
       "      <th>latency</th>\n",
       "      <th>disturbances</th>\n",
       "      <th>wake_duration</th>\n",
       "      <th>light_sleep_duration</th>\n",
       "      <th>slow_wave_sleep_duration</th>\n",
       "      <th>rem_sleep_duration</th>\n",
       "      <th>cycles_count</th>\n",
       "      <th>debt_post</th>\n",
       "      <th>is_nap</th>\n",
       "      <th>recovery_score</th>\n",
       "      <th>resting_heart_rate</th>\n",
       "      <th>hrv_rmssd</th>\n",
       "      <th>end_epoch</th>\n",
       "      <th>race_period</th>\n",
       "      <th>date_md</th>\n",
       "    </tr>\n",
       "  </thead>\n",
       "  <tbody>\n",
       "    <tr>\n",
       "      <th>0</th>\n",
       "      <td>828</td>\n",
       "      <td>2015-09-15 02:42:00</td>\n",
       "      <td>2015-09-15 12:09:00</td>\n",
       "      <td>82</td>\n",
       "      <td>34020000</td>\n",
       "      <td>2100132</td>\n",
       "      <td>27</td>\n",
       "      <td>6870000</td>\n",
       "      <td>22230000</td>\n",
       "      <td>3600000</td>\n",
       "      <td>1320000</td>\n",
       "      <td>2</td>\n",
       "      <td>4266209.55</td>\n",
       "      <td>f</td>\n",
       "      <td>63</td>\n",
       "      <td>49</td>\n",
       "      <td>0.064647</td>\n",
       "      <td>1442318940000</td>\n",
       "      <td>1</td>\n",
       "      <td>09-15</td>\n",
       "    </tr>\n",
       "    <tr>\n",
       "      <th>1</th>\n",
       "      <td>828</td>\n",
       "      <td>2015-09-16 02:03:00</td>\n",
       "      <td>2015-09-16 12:06:00</td>\n",
       "      <td>87</td>\n",
       "      <td>36180000</td>\n",
       "      <td>2790134</td>\n",
       "      <td>25</td>\n",
       "      <td>6630000</td>\n",
       "      <td>22860000</td>\n",
       "      <td>3210000</td>\n",
       "      <td>3480000</td>\n",
       "      <td>3</td>\n",
       "      <td>2436815.25</td>\n",
       "      <td>f</td>\n",
       "      <td>74</td>\n",
       "      <td>45</td>\n",
       "      <td>0.075670</td>\n",
       "      <td>1442405160000</td>\n",
       "      <td>1</td>\n",
       "      <td>09-16</td>\n",
       "    </tr>\n",
       "    <tr>\n",
       "      <th>2</th>\n",
       "      <td>828</td>\n",
       "      <td>2015-09-17 00:36:00</td>\n",
       "      <td>2015-09-17 12:15:00</td>\n",
       "      <td>97</td>\n",
       "      <td>41940000</td>\n",
       "      <td>7800470</td>\n",
       "      <td>24</td>\n",
       "      <td>10410000</td>\n",
       "      <td>25680000</td>\n",
       "      <td>3240000</td>\n",
       "      <td>2580000</td>\n",
       "      <td>4</td>\n",
       "      <td>513169.69</td>\n",
       "      <td>f</td>\n",
       "      <td>68</td>\n",
       "      <td>44</td>\n",
       "      <td>0.036925</td>\n",
       "      <td>1442492100000</td>\n",
       "      <td>1</td>\n",
       "      <td>09-17</td>\n",
       "    </tr>\n",
       "    <tr>\n",
       "      <th>3</th>\n",
       "      <td>828</td>\n",
       "      <td>2015-09-18 02:38:18.552</td>\n",
       "      <td>2015-09-18 12:24:08.679</td>\n",
       "      <td>94</td>\n",
       "      <td>35150127</td>\n",
       "      <td>1410042</td>\n",
       "      <td>32</td>\n",
       "      <td>3960000</td>\n",
       "      <td>24810000</td>\n",
       "      <td>2160000</td>\n",
       "      <td>4230000</td>\n",
       "      <td>7</td>\n",
       "      <td>1425316.75</td>\n",
       "      <td>f</td>\n",
       "      <td>90</td>\n",
       "      <td>53</td>\n",
       "      <td>0.098787</td>\n",
       "      <td>1442579048000</td>\n",
       "      <td>1</td>\n",
       "      <td>09-18</td>\n",
       "    </tr>\n",
       "    <tr>\n",
       "      <th>5</th>\n",
       "      <td>828</td>\n",
       "      <td>2015-09-20 03:38:43.029</td>\n",
       "      <td>2015-09-20 11:44:39.378</td>\n",
       "      <td>70</td>\n",
       "      <td>29156349</td>\n",
       "      <td>1560075</td>\n",
       "      <td>18</td>\n",
       "      <td>4260000</td>\n",
       "      <td>18090000</td>\n",
       "      <td>2910000</td>\n",
       "      <td>3900000</td>\n",
       "      <td>6</td>\n",
       "      <td>7668000.00</td>\n",
       "      <td>f</td>\n",
       "      <td>42</td>\n",
       "      <td>43</td>\n",
       "      <td>0.050816</td>\n",
       "      <td>1442749479000</td>\n",
       "      <td>1</td>\n",
       "      <td>09-20</td>\n",
       "    </tr>\n",
       "  </tbody>\n",
       "</table>\n",
       "</div>"
      ],
      "text/plain": [
       "   user_id                    start                      end  score  time_in_bed  latency  disturbances  wake_duration  light_sleep_duration  slow_wave_sleep_duration  rem_sleep_duration  cycles_count   debt_post is_nap  recovery_score  resting_heart_rate  hrv_rmssd      end_epoch  race_period date_md\n",
       "0      828      2015-09-15 02:42:00      2015-09-15 12:09:00     82     34020000  2100132            27        6870000              22230000                   3600000             1320000             2  4266209.55      f              63                  49   0.064647  1442318940000            1   09-15\n",
       "1      828      2015-09-16 02:03:00      2015-09-16 12:06:00     87     36180000  2790134            25        6630000              22860000                   3210000             3480000             3  2436815.25      f              74                  45   0.075670  1442405160000            1   09-16\n",
       "2      828      2015-09-17 00:36:00      2015-09-17 12:15:00     97     41940000  7800470            24       10410000              25680000                   3240000             2580000             4   513169.69      f              68                  44   0.036925  1442492100000            1   09-17\n",
       "3      828  2015-09-18 02:38:18.552  2015-09-18 12:24:08.679     94     35150127  1410042            32        3960000              24810000                   2160000             4230000             7  1425316.75      f              90                  53   0.098787  1442579048000            1   09-18\n",
       "5      828  2015-09-20 03:38:43.029  2015-09-20 11:44:39.378     70     29156349  1560075            18        4260000              18090000                   2910000             3900000             6  7668000.00      f              42                  43   0.050816  1442749479000            1   09-20"
      ]
     },
     "execution_count": 55,
     "metadata": {},
     "output_type": "execute_result"
    }
   ],
   "source": []
  },
  {
   "cell_type": "code",
   "execution_count": null,
   "metadata": {
    "collapsed": true
   },
   "outputs": [],
   "source": []
  }
 ],
 "metadata": {
  "kernelspec": {
   "display_name": "Python 2",
   "language": "python",
   "name": "python2"
  },
  "language_info": {
   "codemirror_mode": {
    "name": "ipython",
    "version": 2
   },
   "file_extension": ".py",
   "mimetype": "text/x-python",
   "name": "python",
   "nbconvert_exporter": "python",
   "pygments_lexer": "ipython2",
   "version": "2.7.10"
  }
 },
 "nbformat": 4,
 "nbformat_minor": 0
}
